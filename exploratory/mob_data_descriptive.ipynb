{
 "cells": [
  {
   "cell_type": "code",
   "execution_count": 2,
   "id": "e366bb93-17fb-4ffc-96cf-91b96d646769",
   "metadata": {},
   "outputs": [],
   "source": [
    "import pandas as pd\n",
    "import numpy as np\n",
    "import matplotlib.pyplot as plt \n",
    "import seaborn as sns"
   ]
  },
  {
   "cell_type": "markdown",
   "id": "5f3885c3-4c28-4c4e-a014-ae71f5e6795b",
   "metadata": {},
   "source": [
    "# Descriptive analysis of NKOM Nettfart mobile app data"
   ]
  },
  {
   "cell_type": "code",
   "execution_count": 3,
   "id": "2a27efee-626f-4895-84b5-64ba0f267c94",
   "metadata": {},
   "outputs": [],
   "source": [
    "def import_mobdata(data_path):\n",
    "    #import\n",
    "    df = pd.read_csv(data_path, delimiter=';')\n",
    "    \n",
    "    #set and sort time indecies\n",
    "    df.index = pd.to_datetime(df.tid)\n",
    "    df = df.sort_index()\n",
    "    df= df.drop('tid', axis=1)\n",
    "    \n",
    "    #get the data from 2018 to 2021 (inculsive)\n",
    "    #df = df.loc['2018':'2021']\n",
    "    return df\n",
    "\n",
    "DATA_PATH = '../datasets/nettfart-mobile/nettfart_mobile2.csv'\n",
    "mob_data = import_mobdata(DATA_PATH)"
   ]
  },
  {
   "cell_type": "code",
   "execution_count": 4,
   "id": "130b23f6-13a8-4c6c-9cd1-b1ca89dc5a6b",
   "metadata": {},
   "outputs": [
    {
     "name": "stdout",
     "output_type": "stream",
     "text": [
      "<class 'pandas.core.frame.DataFrame'>\n",
      "DatetimeIndex: 740055 entries, 2017-01-06 06:46:00 to 2022-12-01 23:59:00\n",
      "Data columns (total 24 columns):\n",
      " #   Column                 Non-Null Count   Dtype  \n",
      "---  ------                 --------------   -----  \n",
      " 0   hastighet_ned          740055 non-null  float64\n",
      " 1   hastighet_opp          740055 non-null  float64\n",
      " 2   lengdegrad             740055 non-null  object \n",
      " 3   breddegrad             740055 non-null  float64\n",
      " 4   klient_type            740055 non-null  object \n",
      " 5   teknologi              739428 non-null  object \n",
      " 6   ip_as_name             735881 non-null  object \n",
      " 7   nettverkstype          740055 non-null  int64  \n",
      " 8   landkode               735917 non-null  object \n",
      " 9   land_geoip             740054 non-null  object \n",
      " 10  tilbyder               188880 non-null  object \n",
      " 11  enhets_platform        740055 non-null  object \n",
      " 12  enhets_os              740055 non-null  object \n",
      " 13  enhet                  740055 non-null  object \n",
      " 14  enhets_modell          740055 non-null  object \n",
      " 15  operator_name          100163 non-null  object \n",
      " 16  sim_operator           100174 non-null  object \n",
      " 17  sim_operator_name      100163 non-null  object \n",
      " 18  nat_type               740055 non-null  object \n",
      " 19  public_ip_asn          736199 non-null  float64\n",
      " 20  public_ip_as_name      735881 non-null  object \n",
      " 21  num_threads_requested  740055 non-null  int64  \n",
      " 22  num_threads            740055 non-null  int64  \n",
      " 23  ping_median            740055 non-null  float64\n",
      "dtypes: float64(5), int64(3), object(16)\n",
      "memory usage: 141.2+ MB\n"
     ]
    }
   ],
   "source": [
    "mob_data.info()"
   ]
  },
  {
   "cell_type": "code",
   "execution_count": 5,
   "id": "d9fa1316-937c-4c9a-beed-eb93c90ef533",
   "metadata": {},
   "outputs": [
    {
     "data": {
      "text/plain": [
       "tid\n",
       "2017-01-06 06:46:00               NaN\n",
       "2017-01-06 07:13:00               NaN\n",
       "2017-01-06 07:15:00               NaN\n",
       "2017-01-06 07:15:00               NaN\n",
       "2017-01-06 07:33:00    Telia Norge AS\n",
       "2017-01-06 07:35:00    Telia Norge AS\n",
       "2017-01-06 07:35:00    Telia Norge AS\n",
       "2017-01-06 07:48:00               NaN\n",
       "2017-01-06 10:56:00               NaN\n",
       "2017-01-06 10:57:00    Telia Norge AS\n",
       "2017-01-06 10:57:00               NaN\n",
       "2017-01-06 10:58:00    Telia Norge AS\n",
       "2017-01-06 10:59:00               NaN\n",
       "2017-01-06 11:04:00    Telia Norge AS\n",
       "2017-01-06 11:08:00    Telia Norge AS\n",
       "2017-01-06 11:10:00               NaN\n",
       "2017-01-06 11:12:00               NaN\n",
       "2017-01-06 11:42:00    Telia Norge AS\n",
       "2017-01-06 11:45:00    Telia Norge AS\n",
       "2017-01-06 11:49:00               NaN\n",
       "Name: tilbyder, dtype: object"
      ]
     },
     "execution_count": 5,
     "metadata": {},
     "output_type": "execute_result"
    }
   ],
   "source": [
    "mob_data['tilbyder'].head(20)"
   ]
  },
  {
   "cell_type": "markdown",
   "id": "2a1cd105-d536-474a-b5a3-fea607877f31",
   "metadata": {},
   "source": [
    "### Looks for excess featuers"
   ]
  },
  {
   "cell_type": "markdown",
   "id": "bb921e43-34f3-45a0-8952-a33bc8ccc052",
   "metadata": {},
   "source": [
    "Above is Mobile Country Codes (MCC) and Mobile Network Codes (MNC). \n"
   ]
  },
  {
   "cell_type": "code",
   "execution_count": 6,
   "id": "e93e633a-b8cc-48c8-b2ac-7b8793f1a182",
   "metadata": {},
   "outputs": [
    {
     "data": {
      "text/html": [
       "<div>\n",
       "<style scoped>\n",
       "    .dataframe tbody tr th:only-of-type {\n",
       "        vertical-align: middle;\n",
       "    }\n",
       "\n",
       "    .dataframe tbody tr th {\n",
       "        vertical-align: top;\n",
       "    }\n",
       "\n",
       "    .dataframe thead th {\n",
       "        text-align: right;\n",
       "    }\n",
       "</style>\n",
       "<table border=\"1\" class=\"dataframe\">\n",
       "  <thead>\n",
       "    <tr style=\"text-align: right;\">\n",
       "      <th></th>\n",
       "      <th>operator_name</th>\n",
       "      <th>sim_operator_name</th>\n",
       "      <th>public_ip_as_name</th>\n",
       "      <th>ip_as_name</th>\n",
       "      <th>tilbyder</th>\n",
       "      <th>teknologi</th>\n",
       "      <th>nettverkstype</th>\n",
       "    </tr>\n",
       "    <tr>\n",
       "      <th>tid</th>\n",
       "      <th></th>\n",
       "      <th></th>\n",
       "      <th></th>\n",
       "      <th></th>\n",
       "      <th></th>\n",
       "      <th></th>\n",
       "      <th></th>\n",
       "    </tr>\n",
       "  </thead>\n",
       "  <tbody>\n",
       "    <tr>\n",
       "      <th>2017-01-06 06:46:00</th>\n",
       "      <td>TRUE-H</td>\n",
       "      <td>TRUE-H</td>\n",
       "      <td>REALMOVE-AS-AP Realmove Company Limited, TH</td>\n",
       "      <td>REALMOVE-AS-AP Realmove Company Limited, TH</td>\n",
       "      <td>NaN</td>\n",
       "      <td>4G</td>\n",
       "      <td>13</td>\n",
       "    </tr>\n",
       "    <tr>\n",
       "      <th>2017-01-06 07:13:00</th>\n",
       "      <td>NaN</td>\n",
       "      <td>NaN</td>\n",
       "      <td>TDC TDC A/S, DK</td>\n",
       "      <td>TDC TDC A/S, DK</td>\n",
       "      <td>NaN</td>\n",
       "      <td>WLAN</td>\n",
       "      <td>99</td>\n",
       "    </tr>\n",
       "    <tr>\n",
       "      <th>2017-01-06 07:15:00</th>\n",
       "      <td>Telenor</td>\n",
       "      <td>Telenor</td>\n",
       "      <td>TELENOR-NEXTEL Telenor Norge AS, NO</td>\n",
       "      <td>TELENOR-NEXTEL Telenor Norge AS, NO</td>\n",
       "      <td>NaN</td>\n",
       "      <td>4G</td>\n",
       "      <td>13</td>\n",
       "    </tr>\n",
       "    <tr>\n",
       "      <th>2017-01-06 07:15:00</th>\n",
       "      <td>NaN</td>\n",
       "      <td>NaN</td>\n",
       "      <td>TDC TDC A/S, DK</td>\n",
       "      <td>TDC TDC A/S, DK</td>\n",
       "      <td>NaN</td>\n",
       "      <td>WLAN</td>\n",
       "      <td>99</td>\n",
       "    </tr>\n",
       "    <tr>\n",
       "      <th>2017-01-06 07:33:00</th>\n",
       "      <td>Telia N</td>\n",
       "      <td>Telia N</td>\n",
       "      <td>NETCOM-AS Oslo, Norway, NO</td>\n",
       "      <td>NETCOM-AS Oslo, Norway, NO</td>\n",
       "      <td>Telia Norge AS</td>\n",
       "      <td>4G</td>\n",
       "      <td>13</td>\n",
       "    </tr>\n",
       "    <tr>\n",
       "      <th>2017-01-06 07:35:00</th>\n",
       "      <td>Telia N</td>\n",
       "      <td>Telia N</td>\n",
       "      <td>NETCOM-AS Oslo, Norway, NO</td>\n",
       "      <td>NETCOM-AS Oslo, Norway, NO</td>\n",
       "      <td>Telia Norge AS</td>\n",
       "      <td>4G</td>\n",
       "      <td>13</td>\n",
       "    </tr>\n",
       "    <tr>\n",
       "      <th>2017-01-06 07:35:00</th>\n",
       "      <td>Telia N</td>\n",
       "      <td>Telia N</td>\n",
       "      <td>NETCOM-AS Oslo, Norway, NO</td>\n",
       "      <td>NETCOM-AS Oslo, Norway, NO</td>\n",
       "      <td>Telia Norge AS</td>\n",
       "      <td>4G</td>\n",
       "      <td>13</td>\n",
       "    </tr>\n",
       "    <tr>\n",
       "      <th>2017-01-06 07:48:00</th>\n",
       "      <td>NaN</td>\n",
       "      <td>NaN</td>\n",
       "      <td>SIOL-NET Formerly SiOL Internet d.o.o., SI</td>\n",
       "      <td>SIOL-NET Formerly SiOL Internet d.o.o., SI</td>\n",
       "      <td>NaN</td>\n",
       "      <td>WLAN</td>\n",
       "      <td>99</td>\n",
       "    </tr>\n",
       "    <tr>\n",
       "      <th>2017-01-06 10:56:00</th>\n",
       "      <td>NaN</td>\n",
       "      <td>NaN</td>\n",
       "      <td>TDC TDC A/S, DK</td>\n",
       "      <td>TDC TDC A/S, DK</td>\n",
       "      <td>NaN</td>\n",
       "      <td>WLAN</td>\n",
       "      <td>99</td>\n",
       "    </tr>\n",
       "    <tr>\n",
       "      <th>2017-01-06 10:57:00</th>\n",
       "      <td>OneCall</td>\n",
       "      <td>OneCall</td>\n",
       "      <td>NETCOM-AS Oslo, Norway, NO</td>\n",
       "      <td>NETCOM-AS Oslo, Norway, NO</td>\n",
       "      <td>Telia Norge AS</td>\n",
       "      <td>4G</td>\n",
       "      <td>13</td>\n",
       "    </tr>\n",
       "    <tr>\n",
       "      <th>2017-01-06 10:57:00</th>\n",
       "      <td>Talkmore</td>\n",
       "      <td>Talkmore</td>\n",
       "      <td>TELENOR-NEXTEL Telenor Norge AS, NO</td>\n",
       "      <td>TELENOR-NEXTEL Telenor Norge AS, NO</td>\n",
       "      <td>NaN</td>\n",
       "      <td>3G</td>\n",
       "      <td>15</td>\n",
       "    </tr>\n",
       "    <tr>\n",
       "      <th>2017-01-06 10:58:00</th>\n",
       "      <td>OneCall</td>\n",
       "      <td>OneCall</td>\n",
       "      <td>NETCOM-AS Oslo, Norway, NO</td>\n",
       "      <td>NETCOM-AS Oslo, Norway, NO</td>\n",
       "      <td>Telia Norge AS</td>\n",
       "      <td>4G</td>\n",
       "      <td>13</td>\n",
       "    </tr>\n",
       "    <tr>\n",
       "      <th>2017-01-06 10:59:00</th>\n",
       "      <td>NaN</td>\n",
       "      <td>NaN</td>\n",
       "      <td>TDC TDC A/S, DK</td>\n",
       "      <td>TDC TDC A/S, DK</td>\n",
       "      <td>NaN</td>\n",
       "      <td>WLAN</td>\n",
       "      <td>99</td>\n",
       "    </tr>\n",
       "    <tr>\n",
       "      <th>2017-01-06 11:04:00</th>\n",
       "      <td>Telia N</td>\n",
       "      <td>Telia N</td>\n",
       "      <td>NETCOM-AS Oslo, Norway, NO</td>\n",
       "      <td>NETCOM-AS Oslo, Norway, NO</td>\n",
       "      <td>Telia Norge AS</td>\n",
       "      <td>4G</td>\n",
       "      <td>13</td>\n",
       "    </tr>\n",
       "    <tr>\n",
       "      <th>2017-01-06 11:08:00</th>\n",
       "      <td>Telia N</td>\n",
       "      <td>Telia N</td>\n",
       "      <td>NETCOM-AS Oslo, Norway, NO</td>\n",
       "      <td>NETCOM-AS Oslo, Norway, NO</td>\n",
       "      <td>Telia Norge AS</td>\n",
       "      <td>4G</td>\n",
       "      <td>13</td>\n",
       "    </tr>\n",
       "    <tr>\n",
       "      <th>2017-01-06 11:10:00</th>\n",
       "      <td>NaN</td>\n",
       "      <td>NaN</td>\n",
       "      <td>TDC TDC A/S, DK</td>\n",
       "      <td>TDC TDC A/S, DK</td>\n",
       "      <td>NaN</td>\n",
       "      <td>WLAN</td>\n",
       "      <td>99</td>\n",
       "    </tr>\n",
       "    <tr>\n",
       "      <th>2017-01-06 11:12:00</th>\n",
       "      <td>Carrier</td>\n",
       "      <td>Carrier</td>\n",
       "      <td>ASN-CATCHCOM, NO</td>\n",
       "      <td>ASN-CATCHCOM, NO</td>\n",
       "      <td>NaN</td>\n",
       "      <td>4G</td>\n",
       "      <td>13</td>\n",
       "    </tr>\n",
       "    <tr>\n",
       "      <th>2017-01-06 11:42:00</th>\n",
       "      <td>Telia N</td>\n",
       "      <td>Telia N</td>\n",
       "      <td>NETCOM-AS Oslo, Norway, NO</td>\n",
       "      <td>NETCOM-AS Oslo, Norway, NO</td>\n",
       "      <td>Telia Norge AS</td>\n",
       "      <td>4G</td>\n",
       "      <td>13</td>\n",
       "    </tr>\n",
       "    <tr>\n",
       "      <th>2017-01-06 11:45:00</th>\n",
       "      <td>Telia N</td>\n",
       "      <td>Telia N</td>\n",
       "      <td>NETCOM-AS Oslo, Norway, NO</td>\n",
       "      <td>NETCOM-AS Oslo, Norway, NO</td>\n",
       "      <td>Telia Norge AS</td>\n",
       "      <td>4G</td>\n",
       "      <td>13</td>\n",
       "    </tr>\n",
       "    <tr>\n",
       "      <th>2017-01-06 11:49:00</th>\n",
       "      <td>Carrier</td>\n",
       "      <td>Carrier</td>\n",
       "      <td>ASN-CATCHCOM, NO</td>\n",
       "      <td>ASN-CATCHCOM, NO</td>\n",
       "      <td>NaN</td>\n",
       "      <td>4G</td>\n",
       "      <td>13</td>\n",
       "    </tr>\n",
       "  </tbody>\n",
       "</table>\n",
       "</div>"
      ],
      "text/plain": [
       "                    operator_name sim_operator_name  \\\n",
       "tid                                                   \n",
       "2017-01-06 06:46:00        TRUE-H            TRUE-H   \n",
       "2017-01-06 07:13:00           NaN               NaN   \n",
       "2017-01-06 07:15:00       Telenor           Telenor   \n",
       "2017-01-06 07:15:00           NaN               NaN   \n",
       "2017-01-06 07:33:00       Telia N           Telia N   \n",
       "2017-01-06 07:35:00       Telia N           Telia N   \n",
       "2017-01-06 07:35:00       Telia N           Telia N   \n",
       "2017-01-06 07:48:00           NaN               NaN   \n",
       "2017-01-06 10:56:00           NaN               NaN   \n",
       "2017-01-06 10:57:00       OneCall           OneCall   \n",
       "2017-01-06 10:57:00      Talkmore          Talkmore   \n",
       "2017-01-06 10:58:00       OneCall           OneCall   \n",
       "2017-01-06 10:59:00           NaN               NaN   \n",
       "2017-01-06 11:04:00       Telia N           Telia N   \n",
       "2017-01-06 11:08:00       Telia N           Telia N   \n",
       "2017-01-06 11:10:00           NaN               NaN   \n",
       "2017-01-06 11:12:00       Carrier           Carrier   \n",
       "2017-01-06 11:42:00       Telia N           Telia N   \n",
       "2017-01-06 11:45:00       Telia N           Telia N   \n",
       "2017-01-06 11:49:00       Carrier           Carrier   \n",
       "\n",
       "                                               public_ip_as_name  \\\n",
       "tid                                                                \n",
       "2017-01-06 06:46:00  REALMOVE-AS-AP Realmove Company Limited, TH   \n",
       "2017-01-06 07:13:00                              TDC TDC A/S, DK   \n",
       "2017-01-06 07:15:00          TELENOR-NEXTEL Telenor Norge AS, NO   \n",
       "2017-01-06 07:15:00                              TDC TDC A/S, DK   \n",
       "2017-01-06 07:33:00                   NETCOM-AS Oslo, Norway, NO   \n",
       "2017-01-06 07:35:00                   NETCOM-AS Oslo, Norway, NO   \n",
       "2017-01-06 07:35:00                   NETCOM-AS Oslo, Norway, NO   \n",
       "2017-01-06 07:48:00   SIOL-NET Formerly SiOL Internet d.o.o., SI   \n",
       "2017-01-06 10:56:00                              TDC TDC A/S, DK   \n",
       "2017-01-06 10:57:00                   NETCOM-AS Oslo, Norway, NO   \n",
       "2017-01-06 10:57:00          TELENOR-NEXTEL Telenor Norge AS, NO   \n",
       "2017-01-06 10:58:00                   NETCOM-AS Oslo, Norway, NO   \n",
       "2017-01-06 10:59:00                              TDC TDC A/S, DK   \n",
       "2017-01-06 11:04:00                   NETCOM-AS Oslo, Norway, NO   \n",
       "2017-01-06 11:08:00                   NETCOM-AS Oslo, Norway, NO   \n",
       "2017-01-06 11:10:00                              TDC TDC A/S, DK   \n",
       "2017-01-06 11:12:00                             ASN-CATCHCOM, NO   \n",
       "2017-01-06 11:42:00                   NETCOM-AS Oslo, Norway, NO   \n",
       "2017-01-06 11:45:00                   NETCOM-AS Oslo, Norway, NO   \n",
       "2017-01-06 11:49:00                             ASN-CATCHCOM, NO   \n",
       "\n",
       "                                                      ip_as_name  \\\n",
       "tid                                                                \n",
       "2017-01-06 06:46:00  REALMOVE-AS-AP Realmove Company Limited, TH   \n",
       "2017-01-06 07:13:00                              TDC TDC A/S, DK   \n",
       "2017-01-06 07:15:00          TELENOR-NEXTEL Telenor Norge AS, NO   \n",
       "2017-01-06 07:15:00                              TDC TDC A/S, DK   \n",
       "2017-01-06 07:33:00                   NETCOM-AS Oslo, Norway, NO   \n",
       "2017-01-06 07:35:00                   NETCOM-AS Oslo, Norway, NO   \n",
       "2017-01-06 07:35:00                   NETCOM-AS Oslo, Norway, NO   \n",
       "2017-01-06 07:48:00   SIOL-NET Formerly SiOL Internet d.o.o., SI   \n",
       "2017-01-06 10:56:00                              TDC TDC A/S, DK   \n",
       "2017-01-06 10:57:00                   NETCOM-AS Oslo, Norway, NO   \n",
       "2017-01-06 10:57:00          TELENOR-NEXTEL Telenor Norge AS, NO   \n",
       "2017-01-06 10:58:00                   NETCOM-AS Oslo, Norway, NO   \n",
       "2017-01-06 10:59:00                              TDC TDC A/S, DK   \n",
       "2017-01-06 11:04:00                   NETCOM-AS Oslo, Norway, NO   \n",
       "2017-01-06 11:08:00                   NETCOM-AS Oslo, Norway, NO   \n",
       "2017-01-06 11:10:00                              TDC TDC A/S, DK   \n",
       "2017-01-06 11:12:00                             ASN-CATCHCOM, NO   \n",
       "2017-01-06 11:42:00                   NETCOM-AS Oslo, Norway, NO   \n",
       "2017-01-06 11:45:00                   NETCOM-AS Oslo, Norway, NO   \n",
       "2017-01-06 11:49:00                             ASN-CATCHCOM, NO   \n",
       "\n",
       "                           tilbyder teknologi  nettverkstype  \n",
       "tid                                                           \n",
       "2017-01-06 06:46:00             NaN        4G             13  \n",
       "2017-01-06 07:13:00             NaN      WLAN             99  \n",
       "2017-01-06 07:15:00             NaN        4G             13  \n",
       "2017-01-06 07:15:00             NaN      WLAN             99  \n",
       "2017-01-06 07:33:00  Telia Norge AS        4G             13  \n",
       "2017-01-06 07:35:00  Telia Norge AS        4G             13  \n",
       "2017-01-06 07:35:00  Telia Norge AS        4G             13  \n",
       "2017-01-06 07:48:00             NaN      WLAN             99  \n",
       "2017-01-06 10:56:00             NaN      WLAN             99  \n",
       "2017-01-06 10:57:00  Telia Norge AS        4G             13  \n",
       "2017-01-06 10:57:00             NaN        3G             15  \n",
       "2017-01-06 10:58:00  Telia Norge AS        4G             13  \n",
       "2017-01-06 10:59:00             NaN      WLAN             99  \n",
       "2017-01-06 11:04:00  Telia Norge AS        4G             13  \n",
       "2017-01-06 11:08:00  Telia Norge AS        4G             13  \n",
       "2017-01-06 11:10:00             NaN      WLAN             99  \n",
       "2017-01-06 11:12:00             NaN        4G             13  \n",
       "2017-01-06 11:42:00  Telia Norge AS        4G             13  \n",
       "2017-01-06 11:45:00  Telia Norge AS        4G             13  \n",
       "2017-01-06 11:49:00             NaN        4G             13  "
      ]
     },
     "execution_count": 6,
     "metadata": {},
     "output_type": "execute_result"
    }
   ],
   "source": [
    "mob_data[['operator_name','sim_operator_name', 'public_ip_as_name','ip_as_name' ,'tilbyder' , 'teknologi','nettverkstype']].head(20)"
   ]
  },
  {
   "cell_type": "code",
   "execution_count": 7,
   "id": "ecf3d97e-9705-4373-9e7b-789e3ff5a59e",
   "metadata": {},
   "outputs": [
    {
     "data": {
      "text/html": [
       "<div>\n",
       "<style scoped>\n",
       "    .dataframe tbody tr th:only-of-type {\n",
       "        vertical-align: middle;\n",
       "    }\n",
       "\n",
       "    .dataframe tbody tr th {\n",
       "        vertical-align: top;\n",
       "    }\n",
       "\n",
       "    .dataframe thead th {\n",
       "        text-align: right;\n",
       "    }\n",
       "</style>\n",
       "<table border=\"1\" class=\"dataframe\">\n",
       "  <thead>\n",
       "    <tr style=\"text-align: right;\">\n",
       "      <th></th>\n",
       "      <th>enhet</th>\n",
       "      <th>enhets_modell</th>\n",
       "      <th>enhets_platform</th>\n",
       "      <th>enhets_os</th>\n",
       "    </tr>\n",
       "    <tr>\n",
       "      <th>tid</th>\n",
       "      <th></th>\n",
       "      <th></th>\n",
       "      <th></th>\n",
       "      <th></th>\n",
       "    </tr>\n",
       "  </thead>\n",
       "  <tbody>\n",
       "    <tr>\n",
       "      <th>2022-12-01 22:43:00</th>\n",
       "      <td>iPhone</td>\n",
       "      <td>iPhone10,4</td>\n",
       "      <td>iOS</td>\n",
       "      <td>13.01.2001</td>\n",
       "    </tr>\n",
       "    <tr>\n",
       "      <th>2022-12-01 22:43:00</th>\n",
       "      <td>iPhone</td>\n",
       "      <td>iPhone13,4</td>\n",
       "      <td>iOS</td>\n",
       "      <td>14.jun</td>\n",
       "    </tr>\n",
       "    <tr>\n",
       "      <th>2022-12-01 22:46:00</th>\n",
       "      <td>iPhone</td>\n",
       "      <td>iPhone10,1</td>\n",
       "      <td>iOS</td>\n",
       "      <td>15.jan</td>\n",
       "    </tr>\n",
       "    <tr>\n",
       "      <th>2022-12-01 22:47:00</th>\n",
       "      <td>iPhone</td>\n",
       "      <td>iPhone8,4</td>\n",
       "      <td>iOS</td>\n",
       "      <td>14.07.2001</td>\n",
       "    </tr>\n",
       "    <tr>\n",
       "      <th>2022-12-01 22:52:00</th>\n",
       "      <td>Nord</td>\n",
       "      <td>AC2003</td>\n",
       "      <td>Android</td>\n",
       "      <td>11(2112031546)</td>\n",
       "    </tr>\n",
       "    <tr>\n",
       "      <th>2022-12-01 22:52:00</th>\n",
       "      <td>Nord</td>\n",
       "      <td>AC2003</td>\n",
       "      <td>Android</td>\n",
       "      <td>11(2112031546)</td>\n",
       "    </tr>\n",
       "    <tr>\n",
       "      <th>2022-12-01 22:55:00</th>\n",
       "      <td>iPhone</td>\n",
       "      <td>iPhone14,2</td>\n",
       "      <td>iOS</td>\n",
       "      <td>15.feb</td>\n",
       "    </tr>\n",
       "    <tr>\n",
       "      <th>2022-12-01 23:09:00</th>\n",
       "      <td>iPhone</td>\n",
       "      <td>iPhone11,2</td>\n",
       "      <td>iOS</td>\n",
       "      <td>15.feb</td>\n",
       "    </tr>\n",
       "    <tr>\n",
       "      <th>2022-12-01 23:13:00</th>\n",
       "      <td>a10</td>\n",
       "      <td>SM-A105FN</td>\n",
       "      <td>Android</td>\n",
       "      <td>10(A105FNXXU6BUC3)</td>\n",
       "    </tr>\n",
       "    <tr>\n",
       "      <th>2022-12-01 23:14:00</th>\n",
       "      <td>z3s</td>\n",
       "      <td>SM-G988B</td>\n",
       "      <td>Android</td>\n",
       "      <td>11(G988BXXSCDUK1)</td>\n",
       "    </tr>\n",
       "    <tr>\n",
       "      <th>2022-12-01 23:15:00</th>\n",
       "      <td>iPhone</td>\n",
       "      <td>iPhone13,2</td>\n",
       "      <td>iOS</td>\n",
       "      <td>15.feb</td>\n",
       "    </tr>\n",
       "    <tr>\n",
       "      <th>2022-12-01 23:18:00</th>\n",
       "      <td>iPhone</td>\n",
       "      <td>iPhone14,3</td>\n",
       "      <td>iOS</td>\n",
       "      <td>15.feb</td>\n",
       "    </tr>\n",
       "    <tr>\n",
       "      <th>2022-12-01 23:20:00</th>\n",
       "      <td>a32x</td>\n",
       "      <td>SM-A326B</td>\n",
       "      <td>Android</td>\n",
       "      <td>11(A326BXXU4AUK1)</td>\n",
       "    </tr>\n",
       "    <tr>\n",
       "      <th>2022-12-01 23:27:00</th>\n",
       "      <td>iPhone</td>\n",
       "      <td>iPhone13,3</td>\n",
       "      <td>iOS</td>\n",
       "      <td>14.07.2001</td>\n",
       "    </tr>\n",
       "    <tr>\n",
       "      <th>2022-12-01 23:28:00</th>\n",
       "      <td>iPhone</td>\n",
       "      <td>iPhone13,3</td>\n",
       "      <td>iOS</td>\n",
       "      <td>14.07.2001</td>\n",
       "    </tr>\n",
       "    <tr>\n",
       "      <th>2022-12-01 23:37:00</th>\n",
       "      <td>iPhone</td>\n",
       "      <td>iPhone13,1</td>\n",
       "      <td>iOS</td>\n",
       "      <td>14.aug</td>\n",
       "    </tr>\n",
       "    <tr>\n",
       "      <th>2022-12-01 23:38:00</th>\n",
       "      <td>iPad</td>\n",
       "      <td>iPad6,11</td>\n",
       "      <td>iOS</td>\n",
       "      <td>15.jan</td>\n",
       "    </tr>\n",
       "    <tr>\n",
       "      <th>2022-12-01 23:51:00</th>\n",
       "      <td>r8q</td>\n",
       "      <td>SM-G780G</td>\n",
       "      <td>Android</td>\n",
       "      <td>11(G780GXXU3AUJ2)</td>\n",
       "    </tr>\n",
       "    <tr>\n",
       "      <th>2022-12-01 23:53:00</th>\n",
       "      <td>r8q</td>\n",
       "      <td>SM-G780G</td>\n",
       "      <td>Android</td>\n",
       "      <td>11(G780GXXU3AUJ2)</td>\n",
       "    </tr>\n",
       "    <tr>\n",
       "      <th>2022-12-01 23:59:00</th>\n",
       "      <td>c2s</td>\n",
       "      <td>SM-N986B</td>\n",
       "      <td>Android</td>\n",
       "      <td>11(N986BXXS3DUJ6)</td>\n",
       "    </tr>\n",
       "  </tbody>\n",
       "</table>\n",
       "</div>"
      ],
      "text/plain": [
       "                      enhet enhets_modell enhets_platform           enhets_os\n",
       "tid                                                                          \n",
       "2022-12-01 22:43:00  iPhone    iPhone10,4             iOS          13.01.2001\n",
       "2022-12-01 22:43:00  iPhone    iPhone13,4             iOS              14.jun\n",
       "2022-12-01 22:46:00  iPhone    iPhone10,1             iOS              15.jan\n",
       "2022-12-01 22:47:00  iPhone     iPhone8,4             iOS          14.07.2001\n",
       "2022-12-01 22:52:00    Nord        AC2003         Android      11(2112031546)\n",
       "2022-12-01 22:52:00    Nord        AC2003         Android      11(2112031546)\n",
       "2022-12-01 22:55:00  iPhone    iPhone14,2             iOS              15.feb\n",
       "2022-12-01 23:09:00  iPhone    iPhone11,2             iOS              15.feb\n",
       "2022-12-01 23:13:00     a10     SM-A105FN         Android  10(A105FNXXU6BUC3)\n",
       "2022-12-01 23:14:00     z3s      SM-G988B         Android   11(G988BXXSCDUK1)\n",
       "2022-12-01 23:15:00  iPhone    iPhone13,2             iOS              15.feb\n",
       "2022-12-01 23:18:00  iPhone    iPhone14,3             iOS              15.feb\n",
       "2022-12-01 23:20:00    a32x      SM-A326B         Android   11(A326BXXU4AUK1)\n",
       "2022-12-01 23:27:00  iPhone    iPhone13,3             iOS          14.07.2001\n",
       "2022-12-01 23:28:00  iPhone    iPhone13,3             iOS          14.07.2001\n",
       "2022-12-01 23:37:00  iPhone    iPhone13,1             iOS              14.aug\n",
       "2022-12-01 23:38:00    iPad      iPad6,11             iOS              15.jan\n",
       "2022-12-01 23:51:00     r8q      SM-G780G         Android   11(G780GXXU3AUJ2)\n",
       "2022-12-01 23:53:00     r8q      SM-G780G         Android   11(G780GXXU3AUJ2)\n",
       "2022-12-01 23:59:00     c2s      SM-N986B         Android   11(N986BXXS3DUJ6)"
      ]
     },
     "execution_count": 7,
     "metadata": {},
     "output_type": "execute_result"
    }
   ],
   "source": [
    "mob_data[['enhet','enhets_modell', 'enhets_platform','enhets_os']].tail(20)"
   ]
  },
  {
   "cell_type": "code",
   "execution_count": 8,
   "id": "9b7ec8c7-3b40-498f-a18a-d6fb9f6c9cbc",
   "metadata": {},
   "outputs": [
    {
     "data": {
      "text/plain": [
       "99     639102\n",
       "13      95476\n",
       "41       1497\n",
       "15       1459\n",
       "2        1017\n",
       "8         673\n",
       "106       454\n",
       "20        113\n",
       "3         102\n",
       "10         93\n",
       "9          48\n",
       "107        10\n",
       "18          6\n",
       "1           3\n",
       "19          1\n",
       "6           1\n",
       "Name: nettverkstype, dtype: int64"
      ]
     },
     "execution_count": 8,
     "metadata": {},
     "output_type": "execute_result"
    }
   ],
   "source": [
    "mob_data['nettverkstype'].value_counts()"
   ]
  },
  {
   "cell_type": "code",
   "execution_count": 9,
   "id": "62f76981-953b-4ebd-96f4-ab609cd5ec8c",
   "metadata": {},
   "outputs": [
    {
     "data": {
      "text/plain": [
       "WLAN    639101\n",
       "4G       95476\n",
       "3G        2375\n",
       "5G        1455\n",
       "2G        1021\n",
       "Name: teknologi, dtype: int64"
      ]
     },
     "execution_count": 9,
     "metadata": {},
     "output_type": "execute_result"
    }
   ],
   "source": [
    "mob_data['teknologi'].value_counts()"
   ]
  },
  {
   "cell_type": "code",
   "execution_count": 10,
   "id": "720631db-f92d-4a0b-840d-f7232a9e472a",
   "metadata": {},
   "outputs": [
    {
     "data": {
      "text/html": [
       "<div>\n",
       "<style scoped>\n",
       "    .dataframe tbody tr th:only-of-type {\n",
       "        vertical-align: middle;\n",
       "    }\n",
       "\n",
       "    .dataframe tbody tr th {\n",
       "        vertical-align: top;\n",
       "    }\n",
       "\n",
       "    .dataframe thead th {\n",
       "        text-align: right;\n",
       "    }\n",
       "</style>\n",
       "<table border=\"1\" class=\"dataframe\">\n",
       "  <thead>\n",
       "    <tr style=\"text-align: right;\">\n",
       "      <th></th>\n",
       "      <th>public_ip_as_name</th>\n",
       "      <th>ip_as_name</th>\n",
       "    </tr>\n",
       "    <tr>\n",
       "      <th>tid</th>\n",
       "      <th></th>\n",
       "      <th></th>\n",
       "    </tr>\n",
       "  </thead>\n",
       "  <tbody>\n",
       "    <tr>\n",
       "      <th>2017-01-07 20:42:00</th>\n",
       "      <td>NaN</td>\n",
       "      <td>NaN</td>\n",
       "    </tr>\n",
       "    <tr>\n",
       "      <th>2017-01-11 09:07:00</th>\n",
       "      <td>NaN</td>\n",
       "      <td>NaN</td>\n",
       "    </tr>\n",
       "    <tr>\n",
       "      <th>2017-01-11 09:29:00</th>\n",
       "      <td>NaN</td>\n",
       "      <td>NaN</td>\n",
       "    </tr>\n",
       "    <tr>\n",
       "      <th>2017-01-11 09:38:00</th>\n",
       "      <td>NaN</td>\n",
       "      <td>NaN</td>\n",
       "    </tr>\n",
       "    <tr>\n",
       "      <th>2017-01-11 09:39:00</th>\n",
       "      <td>NaN</td>\n",
       "      <td>NaN</td>\n",
       "    </tr>\n",
       "    <tr>\n",
       "      <th>...</th>\n",
       "      <td>...</td>\n",
       "      <td>...</td>\n",
       "    </tr>\n",
       "    <tr>\n",
       "      <th>2022-03-02 19:21:00</th>\n",
       "      <td>NaN</td>\n",
       "      <td>NaN</td>\n",
       "    </tr>\n",
       "    <tr>\n",
       "      <th>2022-04-02 13:18:00</th>\n",
       "      <td>NaN</td>\n",
       "      <td>NaN</td>\n",
       "    </tr>\n",
       "    <tr>\n",
       "      <th>2022-04-02 19:25:00</th>\n",
       "      <td>NaN</td>\n",
       "      <td>NaN</td>\n",
       "    </tr>\n",
       "    <tr>\n",
       "      <th>2022-08-02 16:18:00</th>\n",
       "      <td>NaN</td>\n",
       "      <td>NaN</td>\n",
       "    </tr>\n",
       "    <tr>\n",
       "      <th>2022-10-02 07:57:00</th>\n",
       "      <td>NaN</td>\n",
       "      <td>NaN</td>\n",
       "    </tr>\n",
       "  </tbody>\n",
       "</table>\n",
       "<p>4174 rows × 2 columns</p>\n",
       "</div>"
      ],
      "text/plain": [
       "                    public_ip_as_name ip_as_name\n",
       "tid                                             \n",
       "2017-01-07 20:42:00               NaN        NaN\n",
       "2017-01-11 09:07:00               NaN        NaN\n",
       "2017-01-11 09:29:00               NaN        NaN\n",
       "2017-01-11 09:38:00               NaN        NaN\n",
       "2017-01-11 09:39:00               NaN        NaN\n",
       "...                               ...        ...\n",
       "2022-03-02 19:21:00               NaN        NaN\n",
       "2022-04-02 13:18:00               NaN        NaN\n",
       "2022-04-02 19:25:00               NaN        NaN\n",
       "2022-08-02 16:18:00               NaN        NaN\n",
       "2022-10-02 07:57:00               NaN        NaN\n",
       "\n",
       "[4174 rows x 2 columns]"
      ]
     },
     "execution_count": 10,
     "metadata": {},
     "output_type": "execute_result"
    }
   ],
   "source": [
    "mob_data[mob_data.public_ip_as_name != mob_data.ip_as_name][['public_ip_as_name', 'ip_as_name']]"
   ]
  },
  {
   "cell_type": "code",
   "execution_count": 11,
   "id": "4e64237b-2415-43f5-8b52-2393cfb4d28a",
   "metadata": {},
   "outputs": [
    {
     "data": {
      "text/html": [
       "<div>\n",
       "<style scoped>\n",
       "    .dataframe tbody tr th:only-of-type {\n",
       "        vertical-align: middle;\n",
       "    }\n",
       "\n",
       "    .dataframe tbody tr th {\n",
       "        vertical-align: top;\n",
       "    }\n",
       "\n",
       "    .dataframe thead th {\n",
       "        text-align: right;\n",
       "    }\n",
       "</style>\n",
       "<table border=\"1\" class=\"dataframe\">\n",
       "  <thead>\n",
       "    <tr style=\"text-align: right;\">\n",
       "      <th></th>\n",
       "      <th>sim_operator_name</th>\n",
       "      <th>operator_name</th>\n",
       "    </tr>\n",
       "    <tr>\n",
       "      <th>tid</th>\n",
       "      <th></th>\n",
       "      <th></th>\n",
       "    </tr>\n",
       "  </thead>\n",
       "  <tbody>\n",
       "    <tr>\n",
       "      <th>2017-01-06 06:46:00</th>\n",
       "      <td>TRUE-H</td>\n",
       "      <td>TRUE-H</td>\n",
       "    </tr>\n",
       "    <tr>\n",
       "      <th>2017-01-06 07:15:00</th>\n",
       "      <td>Telenor</td>\n",
       "      <td>Telenor</td>\n",
       "    </tr>\n",
       "    <tr>\n",
       "      <th>2017-01-06 07:33:00</th>\n",
       "      <td>Telia N</td>\n",
       "      <td>Telia N</td>\n",
       "    </tr>\n",
       "    <tr>\n",
       "      <th>2017-01-06 07:35:00</th>\n",
       "      <td>Telia N</td>\n",
       "      <td>Telia N</td>\n",
       "    </tr>\n",
       "    <tr>\n",
       "      <th>2017-01-06 07:35:00</th>\n",
       "      <td>Telia N</td>\n",
       "      <td>Telia N</td>\n",
       "    </tr>\n",
       "    <tr>\n",
       "      <th>...</th>\n",
       "      <td>...</td>\n",
       "      <td>...</td>\n",
       "    </tr>\n",
       "    <tr>\n",
       "      <th>2022-12-01 22:24:00</th>\n",
       "      <td>Telia N</td>\n",
       "      <td>Telia N</td>\n",
       "    </tr>\n",
       "    <tr>\n",
       "      <th>2022-12-01 23:13:00</th>\n",
       "      <td>vodafone ES | Telenor</td>\n",
       "      <td>vodafone ES | Telenor</td>\n",
       "    </tr>\n",
       "    <tr>\n",
       "      <th>2022-12-01 23:27:00</th>\n",
       "      <td>Telia N</td>\n",
       "      <td>Telia N</td>\n",
       "    </tr>\n",
       "    <tr>\n",
       "      <th>2022-12-01 23:51:00</th>\n",
       "      <td>Telenor</td>\n",
       "      <td>Telenor</td>\n",
       "    </tr>\n",
       "    <tr>\n",
       "      <th>2022-12-01 23:53:00</th>\n",
       "      <td>Telenor</td>\n",
       "      <td>Telenor</td>\n",
       "    </tr>\n",
       "  </tbody>\n",
       "</table>\n",
       "<p>100163 rows × 2 columns</p>\n",
       "</div>"
      ],
      "text/plain": [
       "                         sim_operator_name          operator_name\n",
       "tid                                                              \n",
       "2017-01-06 06:46:00                 TRUE-H                 TRUE-H\n",
       "2017-01-06 07:15:00                Telenor                Telenor\n",
       "2017-01-06 07:33:00                Telia N                Telia N\n",
       "2017-01-06 07:35:00                Telia N                Telia N\n",
       "2017-01-06 07:35:00                Telia N                Telia N\n",
       "...                                    ...                    ...\n",
       "2022-12-01 22:24:00                Telia N                Telia N\n",
       "2022-12-01 23:13:00  vodafone ES | Telenor  vodafone ES | Telenor\n",
       "2022-12-01 23:27:00                Telia N                Telia N\n",
       "2022-12-01 23:51:00                Telenor                Telenor\n",
       "2022-12-01 23:53:00                Telenor                Telenor\n",
       "\n",
       "[100163 rows x 2 columns]"
      ]
     },
     "execution_count": 11,
     "metadata": {},
     "output_type": "execute_result"
    }
   ],
   "source": [
    "mob_data[mob_data.sim_operator_name == mob_data.operator_name][['sim_operator_name', 'operator_name']]"
   ]
  },
  {
   "cell_type": "code",
   "execution_count": 12,
   "id": "84b8dd55-928f-42ee-adb4-0b6d6238c79a",
   "metadata": {},
   "outputs": [
    {
     "data": {
      "text/html": [
       "<div>\n",
       "<style scoped>\n",
       "    .dataframe tbody tr th:only-of-type {\n",
       "        vertical-align: middle;\n",
       "    }\n",
       "\n",
       "    .dataframe tbody tr th {\n",
       "        vertical-align: top;\n",
       "    }\n",
       "\n",
       "    .dataframe thead th {\n",
       "        text-align: right;\n",
       "    }\n",
       "</style>\n",
       "<table border=\"1\" class=\"dataframe\">\n",
       "  <thead>\n",
       "    <tr style=\"text-align: right;\">\n",
       "      <th></th>\n",
       "      <th>landkode</th>\n",
       "      <th>land_geoip</th>\n",
       "    </tr>\n",
       "    <tr>\n",
       "      <th>tid</th>\n",
       "      <th></th>\n",
       "      <th></th>\n",
       "    </tr>\n",
       "  </thead>\n",
       "  <tbody>\n",
       "    <tr>\n",
       "      <th>2017-01-06 07:13:00</th>\n",
       "      <td>DK</td>\n",
       "      <td>NO</td>\n",
       "    </tr>\n",
       "    <tr>\n",
       "      <th>2017-01-06 07:15:00</th>\n",
       "      <td>DK</td>\n",
       "      <td>NO</td>\n",
       "    </tr>\n",
       "    <tr>\n",
       "      <th>2017-01-06 10:56:00</th>\n",
       "      <td>DK</td>\n",
       "      <td>NO</td>\n",
       "    </tr>\n",
       "    <tr>\n",
       "      <th>2017-01-06 10:59:00</th>\n",
       "      <td>DK</td>\n",
       "      <td>NO</td>\n",
       "    </tr>\n",
       "    <tr>\n",
       "      <th>2017-01-06 11:10:00</th>\n",
       "      <td>DK</td>\n",
       "      <td>NO</td>\n",
       "    </tr>\n",
       "    <tr>\n",
       "      <th>...</th>\n",
       "      <td>...</td>\n",
       "      <td>...</td>\n",
       "    </tr>\n",
       "    <tr>\n",
       "      <th>2022-12-01 19:52:00</th>\n",
       "      <td>NO</td>\n",
       "      <td>SE</td>\n",
       "    </tr>\n",
       "    <tr>\n",
       "      <th>2022-12-01 21:58:00</th>\n",
       "      <td>NO</td>\n",
       "      <td>BE</td>\n",
       "    </tr>\n",
       "    <tr>\n",
       "      <th>2022-12-01 23:14:00</th>\n",
       "      <td>NO</td>\n",
       "      <td>US</td>\n",
       "    </tr>\n",
       "    <tr>\n",
       "      <th>2022-12-01 23:15:00</th>\n",
       "      <td>NO</td>\n",
       "      <td>RU</td>\n",
       "    </tr>\n",
       "    <tr>\n",
       "      <th>2022-12-01 23:20:00</th>\n",
       "      <td>NO</td>\n",
       "      <td>SE</td>\n",
       "    </tr>\n",
       "  </tbody>\n",
       "</table>\n",
       "<p>36942 rows × 2 columns</p>\n",
       "</div>"
      ],
      "text/plain": [
       "                    landkode land_geoip\n",
       "tid                                    \n",
       "2017-01-06 07:13:00       DK         NO\n",
       "2017-01-06 07:15:00       DK         NO\n",
       "2017-01-06 10:56:00       DK         NO\n",
       "2017-01-06 10:59:00       DK         NO\n",
       "2017-01-06 11:10:00       DK         NO\n",
       "...                      ...        ...\n",
       "2022-12-01 19:52:00       NO         SE\n",
       "2022-12-01 21:58:00       NO         BE\n",
       "2022-12-01 23:14:00       NO         US\n",
       "2022-12-01 23:15:00       NO         RU\n",
       "2022-12-01 23:20:00       NO         SE\n",
       "\n",
       "[36942 rows x 2 columns]"
      ]
     },
     "execution_count": 12,
     "metadata": {},
     "output_type": "execute_result"
    }
   ],
   "source": [
    "mob_data[mob_data.landkode != mob_data.land_geoip][['landkode', 'land_geoip']]"
   ]
  },
  {
   "cell_type": "code",
   "execution_count": 13,
   "id": "4cc014f8-62af-4c1b-9e21-c232d1218579",
   "metadata": {},
   "outputs": [
    {
     "data": {
      "text/plain": [
       "MOBILE    740055\n",
       "Name: klient_type, dtype: int64"
      ]
     },
     "execution_count": 13,
     "metadata": {},
     "output_type": "execute_result"
    }
   ],
   "source": [
    "mob_data['klient_type'].value_counts()"
   ]
  },
  {
   "cell_type": "code",
   "execution_count": 14,
   "id": "7e34b7b9-4510-43b0-b2f4-847acfbee757",
   "metadata": {},
   "outputs": [],
   "source": [
    "# removes excess features\n",
    "mob_data = mob_data.drop(columns=['klient_type', 'land_geoip', 'operator_name', 'ip_as_name', 'nettverkstype'])"
   ]
  },
  {
   "cell_type": "markdown",
   "id": "fe195c57-3af9-4e21-a545-85a378135903",
   "metadata": {},
   "source": [
    "### Only use measurement tagged with Norway"
   ]
  },
  {
   "cell_type": "code",
   "execution_count": 15,
   "id": "b6a0806f-fcd4-4558-936e-977bbf7a50e7",
   "metadata": {},
   "outputs": [
    {
     "name": "stdout",
     "output_type": "stream",
     "text": [
      "<class 'pandas.core.frame.DataFrame'>\n",
      "DatetimeIndex: 700847 entries, 2017-01-06 07:15:00 to 2022-12-01 23:59:00\n",
      "Data columns (total 19 columns):\n",
      " #   Column                 Non-Null Count   Dtype  \n",
      "---  ------                 --------------   -----  \n",
      " 0   hastighet_ned          700847 non-null  float64\n",
      " 1   hastighet_opp          700847 non-null  float64\n",
      " 2   lengdegrad             700847 non-null  object \n",
      " 3   breddegrad             700847 non-null  float64\n",
      " 4   teknologi              700233 non-null  object \n",
      " 5   landkode               700847 non-null  object \n",
      " 6   tilbyder               188835 non-null  object \n",
      " 7   enhets_platform        700847 non-null  object \n",
      " 8   enhets_os              700847 non-null  object \n",
      " 9   enhet                  700847 non-null  object \n",
      " 10  enhets_modell          700847 non-null  object \n",
      " 11  sim_operator           96834 non-null   object \n",
      " 12  sim_operator_name      96823 non-null   object \n",
      " 13  nat_type               700847 non-null  object \n",
      " 14  public_ip_asn          700847 non-null  float64\n",
      " 15  public_ip_as_name      700675 non-null  object \n",
      " 16  num_threads_requested  700847 non-null  int64  \n",
      " 17  num_threads            700847 non-null  int64  \n",
      " 18  ping_median            700847 non-null  float64\n",
      "dtypes: float64(5), int64(2), object(12)\n",
      "memory usage: 106.9+ MB\n"
     ]
    }
   ],
   "source": [
    "mob_data = mob_data[mob_data['landkode']=='NO']\n",
    "\n",
    "mob_data.info()"
   ]
  },
  {
   "cell_type": "code",
   "execution_count": 16,
   "id": "937e2df7-82d1-4553-90bd-50a63801d1c3",
   "metadata": {},
   "outputs": [
    {
     "data": {
      "text/plain": [
       "nat_local_to_public_ipv4     504682\n",
       "no_nat_ipv6                  150889\n",
       "nat_public_to_public_ipv4     41358\n",
       "no_nat_ipv4                    2487\n",
       "nat_public_to_public_ipv6      1313\n",
       "nat_local_to_public_ipv6        118\n",
       "Name: nat_type, dtype: int64"
      ]
     },
     "execution_count": 16,
     "metadata": {},
     "output_type": "execute_result"
    }
   ],
   "source": [
    "# what is common nat_type\n",
    "\n",
    "mob_data['nat_type'].value_counts()"
   ]
  },
  {
   "cell_type": "code",
   "execution_count": 17,
   "id": "071f568e-3e3c-48fd-97f0-c71f4cb877f5",
   "metadata": {},
   "outputs": [
    {
     "data": {
      "text/plain": [
       "no_nat_ipv6                  47224\n",
       "nat_public_to_public_ipv4    35912\n",
       "nat_local_to_public_ipv4      7434\n",
       "no_nat_ipv4                   1556\n",
       "nat_public_to_public_ipv6      241\n",
       "nat_local_to_public_ipv6        40\n",
       "Name: nat_type, dtype: int64"
      ]
     },
     "execution_count": 17,
     "metadata": {},
     "output_type": "execute_result"
    }
   ],
   "source": [
    "mob_data[mob_data.teknologi == '4G']['nat_type'].value_counts()"
   ]
  },
  {
   "cell_type": "code",
   "execution_count": 18,
   "id": "f1a4b690-dfc9-409b-83d1-b5c0dd5858f6",
   "metadata": {},
   "outputs": [
    {
     "data": {
      "text/plain": [
       "nat_local_to_public_ipv4     496425\n",
       "no_nat_ipv6                  101621\n",
       "nat_public_to_public_ipv4      3336\n",
       "nat_public_to_public_ipv6      1059\n",
       "no_nat_ipv4                     743\n",
       "nat_local_to_public_ipv6         65\n",
       "Name: nat_type, dtype: int64"
      ]
     },
     "execution_count": 18,
     "metadata": {},
     "output_type": "execute_result"
    }
   ],
   "source": [
    "mob_data[mob_data.teknologi == 'WLAN']['nat_type'].value_counts()"
   ]
  },
  {
   "cell_type": "code",
   "execution_count": 19,
   "id": "61f443b8-616b-4e31-86e3-95fa2270d176",
   "metadata": {},
   "outputs": [
    {
     "data": {
      "text/plain": [
       "Telenor Norge AS    134778\n",
       "Telia Norge AS       54057\n",
       "Name: tilbyder, dtype: int64"
      ]
     },
     "execution_count": 19,
     "metadata": {},
     "output_type": "execute_result"
    }
   ],
   "source": [
    "mob_data['tilbyder'].value_counts()"
   ]
  },
  {
   "cell_type": "code",
   "execution_count": 20,
   "id": "d55671c7-3189-4add-a1ef-2a1d30ff3385",
   "metadata": {},
   "outputs": [
    {
     "data": {
      "text/plain": [
       "Telia Norge AS      32506\n",
       "Telenor Norge AS     6219\n",
       "Name: tilbyder, dtype: int64"
      ]
     },
     "execution_count": 20,
     "metadata": {},
     "output_type": "execute_result"
    }
   ],
   "source": [
    "mob_data[mob_data.teknologi == '4G']['tilbyder'].value_counts()"
   ]
  },
  {
   "cell_type": "code",
   "execution_count": 21,
   "id": "3913e73f-c69c-472c-847d-890abde5c906",
   "metadata": {},
   "outputs": [
    {
     "data": {
      "text/plain": [
       "Telenor Norge AS    128010\n",
       "Telia Norge AS       19730\n",
       "Name: tilbyder, dtype: int64"
      ]
     },
     "execution_count": 21,
     "metadata": {},
     "output_type": "execute_result"
    }
   ],
   "source": [
    "mob_data[mob_data.teknologi == 'WLAN']['tilbyder'].value_counts()"
   ]
  },
  {
   "cell_type": "code",
   "execution_count": 22,
   "id": "7e41b5e9-19c5-4d9c-94aa-84dbd78bc99a",
   "metadata": {},
   "outputs": [
    {
     "data": {
      "text/plain": [
       "Telenor                  39479\n",
       "Telia N                  26723\n",
       "N Telenor                 3943\n",
       "TELENOR                   2496\n",
       "Talkmore                  1713\n",
       "                         ...  \n",
       "YOIGO | Telia N              1\n",
       "Movistar | NetCom            1\n",
       "WIND GR  | Fjordkraft        1\n",
       "NL KPN | TELENOR             1\n",
       "Telekom.de | Talkmore        1\n",
       "Name: sim_operator_name, Length: 262, dtype: int64"
      ]
     },
     "execution_count": 22,
     "metadata": {},
     "output_type": "execute_result"
    }
   ],
   "source": [
    "mob_data[mob_data.teknologi == '4G']['sim_operator_name'].value_counts()"
   ]
  },
  {
   "cell_type": "code",
   "execution_count": 23,
   "id": "55cbfd11-4e62-4261-bdc0-d0d027440909",
   "metadata": {},
   "outputs": [
    {
     "data": {
      "text/plain": [
       "Telenor                  55\n",
       "Telia N                  48\n",
       "N Telenor                18\n",
       "TELENOR                   8\n",
       "ice+                      8\n",
       "Chess                     6\n",
       "One Call                  5\n",
       "Dipper                    5\n",
       "ice - Telia               4\n",
       "Fjordkraft                4\n",
       "ice                       3\n",
       "Chilimobil                3\n",
       "Talkmore                  3\n",
       "ice pluss                 2\n",
       "SAGA MOBIL                1\n",
       "vodafone ES | Telenor     1\n",
       "ice +                     1\n",
       "Hudya                     1\n",
       "Telipol                   1\n",
       "ice.net                   1\n",
       "OneCall                   1\n",
       "MyCall                    1\n",
       "Nortel                    1\n",
       "vodafone ES               1\n",
       "Talkmore Bedrift          1\n",
       "Name: sim_operator_name, dtype: int64"
      ]
     },
     "execution_count": 23,
     "metadata": {},
     "output_type": "execute_result"
    }
   ],
   "source": [
    "mob_data[mob_data.teknologi == 'WLAN']['sim_operator_name'].value_counts()"
   ]
  },
  {
   "cell_type": "markdown",
   "id": "d5c59058-ad9e-4107-adec-d578dec51aee",
   "metadata": {},
   "source": [
    "sim operator present mostly for when measurment is done with mobile network technology. "
   ]
  },
  {
   "cell_type": "code",
   "execution_count": 24,
   "id": "878e8ff2-3acc-4c19-a26c-cf21804e0b85",
   "metadata": {},
   "outputs": [
    {
     "name": "stdout",
     "output_type": "stream",
     "text": [
      "<class 'pandas.core.frame.DataFrame'>\n",
      "DatetimeIndex: 700233 entries, 2017-01-06 07:15:00 to 2022-12-01 23:59:00\n",
      "Data columns (total 19 columns):\n",
      " #   Column                 Non-Null Count   Dtype  \n",
      "---  ------                 --------------   -----  \n",
      " 0   hastighet_ned          700233 non-null  float64\n",
      " 1   hastighet_opp          700233 non-null  float64\n",
      " 2   lengdegrad             700233 non-null  object \n",
      " 3   breddegrad             700233 non-null  float64\n",
      " 4   teknologi              700233 non-null  object \n",
      " 5   landkode               700233 non-null  object \n",
      " 6   tilbyder               188750 non-null  object \n",
      " 7   enhets_platform        700233 non-null  object \n",
      " 8   enhets_os              700233 non-null  object \n",
      " 9   enhet                  700233 non-null  object \n",
      " 10  enhets_modell          700233 non-null  object \n",
      " 11  sim_operator           96683 non-null   object \n",
      " 12  sim_operator_name      96672 non-null   object \n",
      " 13  nat_type               700233 non-null  object \n",
      " 14  public_ip_asn          700233 non-null  float64\n",
      " 15  public_ip_as_name      700061 non-null  object \n",
      " 16  num_threads_requested  700233 non-null  int64  \n",
      " 17  num_threads            700233 non-null  int64  \n",
      " 18  ping_median            700233 non-null  float64\n",
      "dtypes: float64(5), int64(2), object(12)\n",
      "memory usage: 106.8+ MB\n"
     ]
    }
   ],
   "source": [
    "mob_data= mob_data.dropna(axis=0, subset=['teknologi'])\n",
    "mob_data.info()"
   ]
  },
  {
   "cell_type": "code",
   "execution_count": 25,
   "id": "8ecc5a71-f3bd-4741-b46e-0f9393251bae",
   "metadata": {},
   "outputs": [
    {
     "data": {
      "text/plain": [
       "<AxesSubplot:xlabel='teknologi', ylabel='Count'>"
      ]
     },
     "execution_count": 25,
     "metadata": {},
     "output_type": "execute_result"
    },
    {
     "data": {
      "image/png": "[encoded data removed]",
      "text/plain": [
       "<Figure size 432x288 with 1 Axes>"
      ]
     },
     "metadata": {
      "needs_background": "light"
     },
     "output_type": "display_data"
    }
   ],
   "source": [
    "sns.histplot(data=mob_data.reset_index(), x=\"teknologi\", log_scale=(False, True))"
   ]
  },
  {
   "cell_type": "code",
   "execution_count": 26,
   "id": "6f900250-eec8-461c-8bef-9e3816b4e304",
   "metadata": {},
   "outputs": [
    {
     "data": {
      "text/plain": [
       "WLAN    603249\n",
       "4G       92407\n",
       "3G        2137\n",
       "5G        1442\n",
       "2G         998\n",
       "Name: teknologi, dtype: int64"
      ]
     },
     "execution_count": 26,
     "metadata": {},
     "output_type": "execute_result"
    }
   ],
   "source": [
    "mob_data['teknologi'].value_counts()"
   ]
  },
  {
   "cell_type": "code",
   "execution_count": null,
   "id": "b2bd8c8f-23d9-4376-a6e2-7a71b3abb39c",
   "metadata": {},
   "outputs": [],
   "source": []
  },
  {
   "cell_type": "markdown",
   "id": "2845c583-9024-4577-998b-771eb9815efe",
   "metadata": {},
   "source": [
    "# Visualization\n",
    "\n",
    "\n",
    "## Distingushing metrics in access technology"
   ]
  },
  {
   "cell_type": "code",
   "execution_count": 27,
   "id": "668fe3f9-a346-406e-a34d-db91a954e971",
   "metadata": {},
   "outputs": [
    {
     "data": {
      "image/png": "[encoded data removed]",
      "text/plain": [
       "<Figure size 360x360 with 1 Axes>"
      ]
     },
     "metadata": {},
     "output_type": "display_data"
    }
   ],
   "source": [
    "mob_data = mob_data.reset_index()\n",
    "\n",
    "sns.set_theme(style=\"darkgrid\")\n",
    "order=[\"2G\", \"3G\", \"4G\", \"5G\", \"WLAN\"]\n",
    "fig, ax = plt.subplots(figsize=(5,5))\n",
    "sns.ecdfplot(\n",
    "    mob_data,\n",
    "    x=\"hastighet_ned\", hue=\"teknologi\", \n",
    "    linewidth=2,\n",
    "    ax=ax,\n",
    "    legend=False,\n",
    "    hue_order = order\n",
    "    \n",
    ")\n",
    "ax.set_xlim(-5, 400)\n",
    "ax.set_xlabel(\"Download rate $[Mbit/s]$\")\n",
    "ax.legend(title=\"Access technology\", labels = order[::-1])\n",
    "#plt.savefig('figs/tech/tech_down_ecdf')\n",
    "plt.show()"
   ]
  },
  {
   "cell_type": "code",
   "execution_count": 28,
   "id": "6a4b71e0-5567-4868-bab4-abdd89cbd271",
   "metadata": {},
   "outputs": [
    {
     "data": {
      "image/png": "[encoded data removed]",
      "text/plain": [
       "<Figure size 360x360 with 1 Axes>"
      ]
     },
     "metadata": {},
     "output_type": "display_data"
    }
   ],
   "source": [
    "sns.set_theme(style=\"darkgrid\")\n",
    "order=[\"2G\", \"3G\", \"4G\", \"5G\", \"WLAN\"]\n",
    "fig, ax = plt.subplots(figsize=(5,5))\n",
    "sns.ecdfplot(\n",
    "    mob_data,\n",
    "    x=\"hastighet_opp\", hue=\"teknologi\", \n",
    "    linewidth=2,\n",
    "    ax=ax,\n",
    "    legend=False,\n",
    "    hue_order = order\n",
    "    \n",
    ")\n",
    "ax.set_xlim(-5, 259)\n",
    "ax.set_xlabel(\"Upload rate $[Mbit/s]$\")\n",
    "ax.legend(title=\"Access technology\", labels = order[::-1])\n",
    "#plt.savefig('figs/tech/tech_up_ecdf')\n",
    "\n",
    "plt.show()\n"
   ]
  },
  {
   "cell_type": "code",
   "execution_count": 29,
   "id": "98234f72-c8bd-4e06-b2b9-93b96d80d613",
   "metadata": {},
   "outputs": [
    {
     "data": {
      "image/png": "[encoded data removed]",
      "text/plain": [
       "<Figure size 360x360 with 1 Axes>"
      ]
     },
     "metadata": {},
     "output_type": "display_data"
    }
   ],
   "source": [
    "sns.set_theme(style=\"darkgrid\")\n",
    "order=[\"2G\", \"3G\", \"4G\", \"5G\", \"WLAN\"]\n",
    "fig, ax = plt.subplots(figsize=(5,5))\n",
    "sns.ecdfplot(\n",
    "    mob_data,\n",
    "    x=\"ping_median\", hue=\"teknologi\", \n",
    "    linewidth=2,\n",
    "    ax=ax,\n",
    "    legend=False,\n",
    "    hue_order = order\n",
    "    \n",
    ")\n",
    "ax.set_xlim(-5, 300)\n",
    "ax.set_xlabel(\"RTT $[Milliseconds]$\")\n",
    "ax.legend(title=\"Access technology\", labels = order[::-1])\n",
    "#plt.savefig('figs/tech/tech_RTT_ecdf')\n",
    "\n",
    "plt.show()"
   ]
  },
  {
   "cell_type": "code",
   "execution_count": 30,
   "id": "03358789-1e16-4afd-82af-18d67b74796c",
   "metadata": {},
   "outputs": [
    {
     "data": {
      "image/png": "[encoded data removed]",
      "text/plain": [
       "<Figure size 1224x360 with 3 Axes>"
      ]
     },
     "metadata": {},
     "output_type": "display_data"
    }
   ],
   "source": [
    "sns.set_theme(style=\"darkgrid\")\n",
    "\n",
    "order=[\"2G\", \"3G\", \"4G\", \"5G\", \"WLAN\"]\n",
    "fig, ax = plt.subplots(ncols = 3, figsize=(17,5))\n",
    "sns.color_palette(\"rocket\")\n",
    "\n",
    "sns.ecdfplot(\n",
    "    mob_data,\n",
    "    x=\"hastighet_ned\", hue=\"teknologi\", \n",
    "    linewidth=2,\n",
    "    ax=ax[0],\n",
    "    legend=False,\n",
    "    hue_order = order\n",
    "    \n",
    ")\n",
    "sns.ecdfplot(\n",
    "    mob_data,\n",
    "    x=\"hastighet_opp\", hue=\"teknologi\", \n",
    "    linewidth=2,\n",
    "    ax=ax[1], legend=False,\n",
    "    hue_order = order\n",
    "\n",
    ")\n",
    "sns.ecdfplot(\n",
    "    mob_data,\n",
    "    x=\"ping_median\", hue=\"teknologi\", \n",
    "    linewidth=2,\n",
    "    ax=ax[2],\n",
    "    legend= False,\n",
    "    hue_order = order\n",
    "\n",
    ")\n",
    "\n",
    "ax[0].set_xlim(0, 400)\n",
    "ax[0].set_xlabel(\"Download rate $(Mbit/s)$\")\n",
    "ax[0].legend(title=\"Access technology\", labels = order[::-1])\n",
    "\n",
    "\n",
    "\n",
    "ax[1].set_xlim(0, 250)\n",
    "ax[1].set_xlabel(\"Upload rate $(Mbit/s)$\")\n",
    "\n",
    "ax[2].set_xlim(0, 300)\n",
    "ax[2].set_xlabel(\"RTT $(Milliseconds)$\")\n",
    "#plt.savefig(\"eCDF mobdata\")\n",
    "plt.show()"
   ]
  },
  {
   "cell_type": "markdown",
   "id": "14614f24-28ae-4bc3-8497-13dea8df1879",
   "metadata": {},
   "source": [
    "## Temporal "
   ]
  },
  {
   "cell_type": "code",
   "execution_count": 31,
   "id": "aea357fd-8b88-4bcf-97af-c55a0aa927f9",
   "metadata": {},
   "outputs": [
    {
     "data": {
      "text/plain": [
       "2020    220299\n",
       "2021    174718\n",
       "2019    169524\n",
       "2018     97543\n",
       "2022     20170\n",
       "2017     17979\n",
       "Name: year, dtype: int64"
      ]
     },
     "execution_count": 31,
     "metadata": {},
     "output_type": "execute_result"
    }
   ],
   "source": [
    "mob_data['year']= mob_data['tid'].dt.year\n",
    "W_4G_df = mob_data[(mob_data['teknologi'] == '4G') | (mob_data['teknologi'] == 'WLAN')]\n",
    "mob_data['year'].value_counts()"
   ]
  },
  {
   "cell_type": "code",
   "execution_count": 32,
   "id": "656cc935-e869-4c23-a71f-f14b6c3d39fc",
   "metadata": {},
   "outputs": [
    {
     "data": {
      "image/png": "[encoded data removed]",
      "text/plain": [
       "<Figure size 432x288 with 1 Axes>"
      ]
     },
     "metadata": {},
     "output_type": "display_data"
    }
   ],
   "source": [
    "fig, ax = plt.subplots()\n",
    "sns.boxplot(x=\"year\", y=\"hastighet_ned\",\n",
    "            hue=\"teknologi\", whis=1.5, fliersize=1,\n",
    "            data=W_4G_df[W_4G_df.year.isin([2018,2019,2020,2021])], ax=ax)\n",
    "\n",
    "ax.set_ylim(-10, 300)\n",
    "ax.set_ylabel(\"Download rate [Mbit/s]\")\n",
    "handles, _ = ax.get_legend_handles_labels()          # Get the artists.\n",
    "ax.legend(handles,[\"WLAN\", \"4G\"],title=\"Access technology\",loc=\"upper left\")\n",
    "#plt.savefig('figs/tech/tech_down_box')\n",
    "plt.show()\n"
   ]
  },
  {
   "cell_type": "code",
   "execution_count": 33,
   "id": "d5103c00-82e2-42f4-bf74-3a2254ff14d4",
   "metadata": {},
   "outputs": [
    {
     "data": {
      "image/png": "[encoded data removed]",
      "text/plain": [
       "<Figure size 432x288 with 1 Axes>"
      ]
     },
     "metadata": {},
     "output_type": "display_data"
    }
   ],
   "source": [
    "fig, ax = plt.subplots()\n",
    "sns.boxplot(x=\"year\", y=\"hastighet_opp\",\n",
    "            hue=\"teknologi\", whis=1.5, fliersize=1,\n",
    "            data=W_4G_df[W_4G_df.year.isin([2018,2019,2020,2021])], ax=ax)\n",
    "\n",
    "ax.set_ylim(-10, 175)\n",
    "ax.set_ylabel(\"Upload rate [Mbit/s]\")\n",
    "handles, _ = ax.get_legend_handles_labels()          # Get the artists.\n",
    "ax.legend(handles,[\"WLAN\", \"4G\"],title=\"Access technology\",loc=\"upper left\")\n",
    "#plt.savefig('figs/tech/tech_up_box')\n",
    "\n",
    "plt.show()"
   ]
  },
  {
   "cell_type": "code",
   "execution_count": 34,
   "id": "651c0c65-9fec-4bf7-a4ff-cbe22c4f08ac",
   "metadata": {},
   "outputs": [
    {
     "data": {
      "image/png": "[encoded data removed]",
      "text/plain": [
       "<Figure size 432x288 with 1 Axes>"
      ]
     },
     "metadata": {},
     "output_type": "display_data"
    }
   ],
   "source": [
    "fig, ax = plt.subplots()\n",
    "sns.boxplot(x=\"year\", y=\"ping_median\",\n",
    "            hue=\"teknologi\", whis=1.5, fliersize=1,\n",
    "            data=W_4G_df[W_4G_df.year.isin([2018,2019,2020,2021])], ax=ax)\n",
    "\n",
    "ax.set_ylim(-10, 125)\n",
    "ax.set_ylabel(\"RTT $[Milliseconds]$\")\n",
    "handles, _ = ax.get_legend_handles_labels()          # Get the artists.\n",
    "ax.legend(handles,[\"WLAN\", \"4G\"],title=\"Access technology\",loc=\"upper left\")\n",
    "#plt.savefig('figs/tech/tech_RTT_box')\n",
    "\n",
    "plt.show()"
   ]
  },
  {
   "cell_type": "code",
   "execution_count": 35,
   "id": "48503c14-98d8-4f72-982f-9fbe01dee7af",
   "metadata": {},
   "outputs": [
    {
     "data": {
      "text/plain": [
       "<seaborn.axisgrid.FacetGrid at 0x125bfd250>"
      ]
     },
     "execution_count": 35,
     "metadata": {},
     "output_type": "execute_result"
    },
    {
     "data": {
      "image/png": "[encoded data removed]",
      "text/plain": [
       "<Figure size 784.225x360 with 2 Axes>"
      ]
     },
     "metadata": {},
     "output_type": "display_data"
    }
   ],
   "source": [
    "sns.displot(\n",
    "    W_4G_df[W_4G_df.year.isin([2018,2019,2020,2021])], kind='ecdf',\n",
    "    x=\"hastighet_ned\", hue=\"year\", col=\"teknologi\",\n",
    "    linewidth=2,\n",
    ")\n"
   ]
  },
  {
   "cell_type": "code",
   "execution_count": 36,
   "id": "cbbfe74a-6d5d-4e4c-ad0a-8084a8aa2971",
   "metadata": {},
   "outputs": [
    {
     "data": {
      "text/plain": [
       "<seaborn.axisgrid.FacetGrid at 0x1251c2dd0>"
      ]
     },
     "execution_count": 36,
     "metadata": {},
     "output_type": "execute_result"
    },
    {
     "data": {
      "image/png": "[encoded data removed]",
      "text/plain": [
       "<Figure size 784.225x360 with 2 Axes>"
      ]
     },
     "metadata": {},
     "output_type": "display_data"
    }
   ],
   "source": [
    "sns.displot(\n",
    "    W_4G_df[W_4G_df.year.isin([2018,2019,2020,2021])], kind='hist',\n",
    "    x=\"hastighet_ned\", col=\"teknologi\", hue= 'year', multiple='stack',\n",
    "    linewidth=2, log_scale=True\n",
    ")"
   ]
  },
  {
   "cell_type": "markdown",
   "id": "37691caa-437a-40ef-b4d8-a81155a6e1b0",
   "metadata": {},
   "source": [
    "## day of week"
   ]
  },
  {
   "cell_type": "code",
   "execution_count": 37,
   "id": "6d25a656-d617-48a0-b1e2-ce672630a43b",
   "metadata": {},
   "outputs": [],
   "source": [
    "four_g = W_4G_df[W_4G_df.teknologi =='4G']\n",
    "day_of_week_4G= four_g.groupby(four_g['tid'].dt.dayofweek)['hastighet_ned'].count()"
   ]
  },
  {
   "cell_type": "code",
   "execution_count": 38,
   "id": "4c8aa130-d858-4d81-a253-4710c187be46",
   "metadata": {},
   "outputs": [],
   "source": [
    "wlan_df = W_4G_df[W_4G_df.teknologi =='WLAN']\n",
    "day_of_week_wlan = wlan_df.groupby(wlan_df['tid'].dt.dayofweek)['hastighet_ned'].count()\n"
   ]
  },
  {
   "cell_type": "code",
   "execution_count": 39,
   "id": "e00d3ecd-2a72-4200-8196-c13c212929b2",
   "metadata": {},
   "outputs": [
    {
     "data": {
      "text/plain": [
       "<BarContainer object of 7 artists>"
      ]
     },
     "execution_count": 39,
     "metadata": {},
     "output_type": "execute_result"
    },
    {
     "data": {
      "image/png": "[encoded data removed]",
      "text/plain": [
       "<Figure size 432x288 with 2 Axes>"
      ]
     },
     "metadata": {},
     "output_type": "display_data"
    }
   ],
   "source": [
    "fig , ax = plt.subplots(nrows=2, sharex=True)\n",
    "barWidth = 0.25\n",
    "ax[0].bar(day_of_week_wlan.index,day_of_week_wlan.values ,width=barWidth)\n",
    "ax[1].bar(day_of_week_4G.index, day_of_week_4G.values, width=barWidth)"
   ]
  },
  {
   "cell_type": "code",
   "execution_count": 40,
   "id": "e249deae-29e8-49fa-ad2c-3898d902d772",
   "metadata": {},
   "outputs": [
    {
     "data": {
      "text/plain": [
       "<AxesSubplot:xlabel='tid'>"
      ]
     },
     "execution_count": 40,
     "metadata": {},
     "output_type": "execute_result"
    },
    {
     "data": {
      "image/png": "[encoded data removed]",
      "text/plain": [
       "<Figure size 432x288 with 1 Axes>"
      ]
     },
     "metadata": {},
     "output_type": "display_data"
    }
   ],
   "source": [
    "day_of_week_4G.plot(kind='line')"
   ]
  },
  {
   "cell_type": "code",
   "execution_count": 41,
   "id": "f15a9d55-aa47-4404-ac6e-24c15208faf2",
   "metadata": {},
   "outputs": [
    {
     "data": {
      "text/plain": [
       "<AxesSubplot:xlabel='tid'>"
      ]
     },
     "execution_count": 41,
     "metadata": {},
     "output_type": "execute_result"
    },
    {
     "data": {
      "image/png": "[encoded data removed]",
      "text/plain": [
       "<Figure size 432x288 with 1 Axes>"
      ]
     },
     "metadata": {},
     "output_type": "display_data"
    }
   ],
   "source": [
    "day_of_week_wlan.plot(kind='line')"
   ]
  },
  {
   "cell_type": "markdown",
   "id": "5d5b9603-448a-4d0f-95f7-6e235d399d41",
   "metadata": {},
   "source": [
    "## Hour of day"
   ]
  },
  {
   "cell_type": "code",
   "execution_count": 42,
   "id": "bddbff61-b53c-476c-85c8-f906e423817c",
   "metadata": {},
   "outputs": [],
   "source": [
    "hour_of_day_wlan = wlan_df.groupby(wlan_df['tid'].dt.hour)['hastighet_ned'].count()\n",
    "hour_of_day_4g = four_g.groupby(four_g['tid'].dt.hour)['hastighet_ned'].count()\n"
   ]
  },
  {
   "cell_type": "code",
   "execution_count": 43,
   "id": "522da0c1-2d2c-4665-af83-297bfd8a24ff",
   "metadata": {},
   "outputs": [
    {
     "data": {
      "text/plain": [
       "Text(0, 0.5, 'Num measurements')"
      ]
     },
     "execution_count": 43,
     "metadata": {},
     "output_type": "execute_result"
    },
    {
     "data": {
      "image/png": "[encoded data removed]",
      "text/plain": [
       "<Figure size 504x144 with 1 Axes>"
      ]
     },
     "metadata": {},
     "output_type": "display_data"
    }
   ],
   "source": [
    "fig, ax= plt.subplots( figsize=(7, 2))\n",
    "hour_of_day_wlan.plot(kind='bar', ax=ax)\n",
    "ax.set_xlabel(\"Hour of day\")\n",
    "ax.set_ylabel(\"Num measurements\")\n",
    "#plt.savefig(\"figs/tech/hour_day_wlan\")"
   ]
  },
  {
   "cell_type": "code",
   "execution_count": 44,
   "id": "31799088-8b52-43ac-8460-bdc1076eee9f",
   "metadata": {},
   "outputs": [
    {
     "data": {
      "text/plain": [
       "Text(0, 0.5, 'Num measurements')"
      ]
     },
     "execution_count": 44,
     "metadata": {},
     "output_type": "execute_result"
    },
    {
     "data": {
      "image/png": "[encoded data removed]",
      "text/plain": [
       "<Figure size 504x144 with 1 Axes>"
      ]
     },
     "metadata": {},
     "output_type": "display_data"
    }
   ],
   "source": [
    "fig, ax= plt.subplots( figsize=(7, 2))\n",
    "hour_of_day_4g.plot(kind='bar', ax=ax)\n",
    "ax.set_xlabel(\"Hour of day\")\n",
    "ax.set_ylabel(\"Num measurements\")\n",
    "#plt.savefig(\"figs/tech/hour_day_4g\")"
   ]
  },
  {
   "cell_type": "markdown",
   "id": "c0f958b1-285a-4bd6-b9e5-717ca2649fb7",
   "metadata": {},
   "source": [
    "# Distinguish on operarator mobile infrastructure: 4G"
   ]
  },
  {
   "cell_type": "code",
   "execution_count": 45,
   "id": "e439404f-e417-4bc1-8b7a-b00176449745",
   "metadata": {},
   "outputs": [
    {
     "data": {
      "text/plain": [
       "Telenor           39479\n",
       "Telia N           26723\n",
       "N Telenor          3943\n",
       "TELENOR            2496\n",
       "Talkmore           1713\n",
       "One Call           1693\n",
       "Ice Norway         1648\n",
       "OneCall            1554\n",
       "ice+               1544\n",
       "Chilimobil         1481\n",
       "ice pluss          1056\n",
       "ice.net            1016\n",
       "ice                1013\n",
       "Carrier            1007\n",
       "Fjordkraft          678\n",
       "Chess               575\n",
       "Telipol             375\n",
       "NetCom              297\n",
       "Dipper              279\n",
       "Komplett Mobil      242\n",
       "Name: sim_operator_name, dtype: int64"
      ]
     },
     "execution_count": 45,
     "metadata": {},
     "output_type": "execute_result"
    }
   ],
   "source": [
    "mob_data[mob_data.teknologi == '4G']['sim_operator_name'].value_counts().head(20)\n"
   ]
  },
  {
   "cell_type": "markdown",
   "id": "4ec5b02c-384a-42c3-b12c-e3d8f3f6a397",
   "metadata": {},
   "source": [
    "Need to map all mobile subscription provider to the mobile broadband network they use. \n",
    "https://mobiltelefoni.no/slik-fungerer-mobilnettene-i-norge"
   ]
  },
  {
   "cell_type": "code",
   "execution_count": 46,
   "id": "291b3209-96d1-48d0-b0d3-30cfb6fda8b1",
   "metadata": {},
   "outputs": [],
   "source": [
    "telenor_users = ['Telenor','N Telenor', 'TELENOR', 'Talkmore', 'Fjordkraft']\n",
    "telia_users = ['Telia N','One Call', 'OneCall', 'Chilimobil']\n",
    "ice_users =['Ice Norway', 'ice+', 'ice pluss', 'ice.net', 'ice']"
   ]
  },
  {
   "cell_type": "markdown",
   "id": "2a94ca61-13c4-4d00-af55-3fd6d3a13ed3",
   "metadata": {},
   "source": [
    "Ice leier også nett av telia der de ikke har bygd ut 4G \n",
    "\n",
    "https://www.ice.no/ice-magasinet/norges-nye-mobilnett/"
   ]
  },
  {
   "cell_type": "code",
   "execution_count": 47,
   "id": "97ff4f72-7406-4b74-8a46-6704ad2f13c2",
   "metadata": {},
   "outputs": [
    {
     "name": "stdout",
     "output_type": "stream",
     "text": [
      "<class 'pandas.core.frame.DataFrame'>\n",
      "Int64Index: 92407 entries, 0 to 700231\n",
      "Data columns (total 22 columns):\n",
      " #   Column                 Non-Null Count  Dtype         \n",
      "---  ------                 --------------  -----         \n",
      " 0   tid                    92407 non-null  datetime64[ns]\n",
      " 1   hastighet_ned          92407 non-null  float64       \n",
      " 2   hastighet_opp          92407 non-null  float64       \n",
      " 3   lengdegrad             92407 non-null  object        \n",
      " 4   breddegrad             92407 non-null  float64       \n",
      " 5   teknologi              92407 non-null  object        \n",
      " 6   landkode               92407 non-null  object        \n",
      " 7   tilbyder               38725 non-null  object        \n",
      " 8   enhets_platform        92407 non-null  object        \n",
      " 9   enhets_os              92407 non-null  object        \n",
      " 10  enhet                  92407 non-null  object        \n",
      " 11  enhets_modell          92407 non-null  object        \n",
      " 12  sim_operator           91944 non-null  object        \n",
      " 13  sim_operator_name      91935 non-null  object        \n",
      " 14  nat_type               92407 non-null  object        \n",
      " 15  public_ip_asn          92407 non-null  float64       \n",
      " 16  public_ip_as_name      92381 non-null  object        \n",
      " 17  num_threads_requested  92407 non-null  int64         \n",
      " 18  num_threads            92407 non-null  int64         \n",
      " 19  ping_median            92407 non-null  float64       \n",
      " 20  year                   92407 non-null  int64         \n",
      " 21  network                86037 non-null  object        \n",
      "dtypes: datetime64[ns](1), float64(5), int64(3), object(13)\n",
      "memory usage: 16.2+ MB\n"
     ]
    },
    {
     "name": "stderr",
     "output_type": "stream",
     "text": [
      "/Users/jesper/master/master_env/lib/python3.7/site-packages/ipykernel_launcher.py:13: SettingWithCopyWarning: \n",
      "A value is trying to be set on a copy of a slice from a DataFrame.\n",
      "Try using .loc[row_indexer,col_indexer] = value instead\n",
      "\n",
      "See the caveats in the documentation: https://pandas.pydata.org/pandas-docs/stable/user_guide/indexing.html#returning-a-view-versus-a-copy\n",
      "  del sys.path[0]\n"
     ]
    }
   ],
   "source": [
    "# get network based on row.\n",
    "def get_network(row):\n",
    "    if row in telenor_users:\n",
    "        return 'Telenor'\n",
    "    elif row in telia_users:\n",
    "        return 'Telia'\n",
    "    elif row in ice_users:\n",
    "        return 'Ice'\n",
    "    else:\n",
    "        return np.nan\n",
    "    \n",
    "# map to new collumn\n",
    "four_g['network'] = four_g['sim_operator_name'].copy().apply( lambda row: get_network(row))\n",
    "four_g.info()"
   ]
  },
  {
   "cell_type": "code",
   "execution_count": 48,
   "id": "884358a2-f9c3-435e-b763-6ce701a7b74b",
   "metadata": {},
   "outputs": [
    {
     "data": {
      "image/png": "[encoded data removed]",
      "text/plain": [
       "<Figure size 360x360 with 1 Axes>"
      ]
     },
     "metadata": {},
     "output_type": "display_data"
    }
   ],
   "source": [
    "order = ['Telenor', 'Telia', 'Ice']\n",
    "sns.set_theme(style=\"darkgrid\")\n",
    "fig, ax = plt.subplots(figsize=(5,5))\n",
    "sns.ecdfplot(\n",
    "    four_g,\n",
    "    x=\"hastighet_ned\", hue=\"network\", \n",
    "    linewidth=2,\n",
    "    ax=ax,\n",
    "    legend=False,\n",
    "    hue_order= order,\n",
    "    \n",
    ")\n",
    "ax.set_xlim(-5, 300)\n",
    "ax.set_xlabel(\"Download rate $[Mbit/s]$\")\n",
    "ax.legend(title=\"LTE network\", labels = order[::-1])\n",
    "#plt.savefig('figs/4g/isp_down_ecdf')\n",
    "plt.show()"
   ]
  },
  {
   "cell_type": "code",
   "execution_count": 49,
   "id": "3e0f9b5e-8eb6-4b6f-88af-615e2ccdffc2",
   "metadata": {},
   "outputs": [
    {
     "data": {
      "image/png": "[encoded data removed]",
      "text/plain": [
       "<Figure size 360x360 with 1 Axes>"
      ]
     },
     "metadata": {},
     "output_type": "display_data"
    }
   ],
   "source": [
    "order = ['Telenor', 'Telia', 'Ice']\n",
    "sns.set_theme(style=\"darkgrid\")\n",
    "fig, ax = plt.subplots(figsize=(5,5))\n",
    "sns.ecdfplot(\n",
    "    four_g,\n",
    "    x=\"hastighet_opp\", hue=\"network\", \n",
    "    linewidth=2,\n",
    "    ax=ax,\n",
    "    legend=False,\n",
    "    hue_order= order,\n",
    "    \n",
    ")\n",
    "ax.set_xlim(-5, 80)\n",
    "ax.set_xlabel(\"Upload rate $[Mbit/s]$\")\n",
    "ax.legend(title=\"LTE network\", labels = order[::-1])\n",
    "#plt.savefig('figs/4g/isp_up_ecdf')\n",
    "plt.show()"
   ]
  },
  {
   "cell_type": "code",
   "execution_count": 50,
   "id": "c9319729-c8bd-4aa0-8d98-973e1fcf64d4",
   "metadata": {},
   "outputs": [
    {
     "data": {
      "image/png": "[encoded data removed]",
      "text/plain": [
       "<Figure size 360x360 with 1 Axes>"
      ]
     },
     "metadata": {},
     "output_type": "display_data"
    }
   ],
   "source": [
    "order = ['Telenor', 'Telia', 'Ice']\n",
    "sns.set_theme(style=\"darkgrid\")\n",
    "fig, ax = plt.subplots(figsize=(5,5))\n",
    "sns.ecdfplot(\n",
    "    four_g,\n",
    "    x=\"ping_median\", hue=\"network\", \n",
    "    linewidth=2,\n",
    "    ax=ax,\n",
    "    legend=False,\n",
    "    hue_order= order,\n",
    "    \n",
    ")\n",
    "ax.set_xlim(-5, 82)\n",
    "ax.set_xlabel(\"RTT $[Ms]$\")\n",
    "ax.legend(title=\"LTE network\", labels = order[::-1])\n",
    "#plt.savefig('figs/4g/isp_rtt_ecdf')\n",
    "plt.show()"
   ]
  },
  {
   "cell_type": "code",
   "execution_count": 51,
   "id": "8c607721-b1a9-4d29-bcce-f6d4c96455e6",
   "metadata": {},
   "outputs": [
    {
     "data": {
      "text/html": [
       "<div>\n",
       "<style scoped>\n",
       "    .dataframe tbody tr th:only-of-type {\n",
       "        vertical-align: middle;\n",
       "    }\n",
       "\n",
       "    .dataframe tbody tr th {\n",
       "        vertical-align: top;\n",
       "    }\n",
       "\n",
       "    .dataframe thead th {\n",
       "        text-align: right;\n",
       "    }\n",
       "</style>\n",
       "<table border=\"1\" class=\"dataframe\">\n",
       "  <thead>\n",
       "    <tr style=\"text-align: right;\">\n",
       "      <th></th>\n",
       "      <th>tid</th>\n",
       "      <th>hastighet_ned</th>\n",
       "      <th>hastighet_opp</th>\n",
       "      <th>lengdegrad</th>\n",
       "      <th>breddegrad</th>\n",
       "      <th>teknologi</th>\n",
       "      <th>landkode</th>\n",
       "      <th>tilbyder</th>\n",
       "      <th>enhets_platform</th>\n",
       "      <th>enhets_os</th>\n",
       "      <th>...</th>\n",
       "      <th>sim_operator</th>\n",
       "      <th>sim_operator_name</th>\n",
       "      <th>nat_type</th>\n",
       "      <th>public_ip_asn</th>\n",
       "      <th>public_ip_as_name</th>\n",
       "      <th>num_threads_requested</th>\n",
       "      <th>num_threads</th>\n",
       "      <th>ping_median</th>\n",
       "      <th>year</th>\n",
       "      <th>network</th>\n",
       "    </tr>\n",
       "  </thead>\n",
       "  <tbody>\n",
       "    <tr>\n",
       "      <th>0</th>\n",
       "      <td>2017-01-06 07:15:00</td>\n",
       "      <td>32.339</td>\n",
       "      <td>33.130</td>\n",
       "      <td>8.103848034523525</td>\n",
       "      <td>58.180864</td>\n",
       "      <td>4G</td>\n",
       "      <td>NO</td>\n",
       "      <td>NaN</td>\n",
       "      <td>iOS</td>\n",
       "      <td>10.03.2003</td>\n",
       "      <td>...</td>\n",
       "      <td>242-01</td>\n",
       "      <td>Telenor</td>\n",
       "      <td>no_nat_ipv6</td>\n",
       "      <td>2119.0</td>\n",
       "      <td>TELENOR-NEXTEL Telenor Norge AS, NO</td>\n",
       "      <td>3</td>\n",
       "      <td>3</td>\n",
       "      <td>30.464739</td>\n",
       "      <td>2017</td>\n",
       "      <td>Telenor</td>\n",
       "    </tr>\n",
       "    <tr>\n",
       "      <th>1</th>\n",
       "      <td>2017-01-06 07:33:00</td>\n",
       "      <td>35.984</td>\n",
       "      <td>9.993</td>\n",
       "      <td>7.159852640014172</td>\n",
       "      <td>58.045217</td>\n",
       "      <td>4G</td>\n",
       "      <td>NO</td>\n",
       "      <td>Telia Norge AS</td>\n",
       "      <td>iOS</td>\n",
       "      <td>10.02.2001</td>\n",
       "      <td>...</td>\n",
       "      <td>242-02</td>\n",
       "      <td>Telia N</td>\n",
       "      <td>nat_local_to_public_ipv4</td>\n",
       "      <td>12929.0</td>\n",
       "      <td>NETCOM-AS Oslo, Norway, NO</td>\n",
       "      <td>3</td>\n",
       "      <td>3</td>\n",
       "      <td>30.028120</td>\n",
       "      <td>2017</td>\n",
       "      <td>Telia</td>\n",
       "    </tr>\n",
       "    <tr>\n",
       "      <th>2</th>\n",
       "      <td>2017-01-06 07:35:00</td>\n",
       "      <td>11.633</td>\n",
       "      <td>6.436</td>\n",
       "      <td>7.149743875495298</td>\n",
       "      <td>58.038875</td>\n",
       "      <td>4G</td>\n",
       "      <td>NO</td>\n",
       "      <td>Telia Norge AS</td>\n",
       "      <td>iOS</td>\n",
       "      <td>10.02.2001</td>\n",
       "      <td>...</td>\n",
       "      <td>242-02</td>\n",
       "      <td>Telia N</td>\n",
       "      <td>nat_local_to_public_ipv4</td>\n",
       "      <td>12929.0</td>\n",
       "      <td>NETCOM-AS Oslo, Norway, NO</td>\n",
       "      <td>3</td>\n",
       "      <td>3</td>\n",
       "      <td>39.945953</td>\n",
       "      <td>2017</td>\n",
       "      <td>Telia</td>\n",
       "    </tr>\n",
       "    <tr>\n",
       "      <th>3</th>\n",
       "      <td>2017-01-06 07:35:00</td>\n",
       "      <td>14.367</td>\n",
       "      <td>6.846</td>\n",
       "      <td>7.149743875495298</td>\n",
       "      <td>58.038875</td>\n",
       "      <td>4G</td>\n",
       "      <td>NO</td>\n",
       "      <td>Telia Norge AS</td>\n",
       "      <td>iOS</td>\n",
       "      <td>10.02.2001</td>\n",
       "      <td>...</td>\n",
       "      <td>242-02</td>\n",
       "      <td>Telia N</td>\n",
       "      <td>nat_local_to_public_ipv4</td>\n",
       "      <td>12929.0</td>\n",
       "      <td>NETCOM-AS Oslo, Norway, NO</td>\n",
       "      <td>3</td>\n",
       "      <td>3</td>\n",
       "      <td>39.921458</td>\n",
       "      <td>2017</td>\n",
       "      <td>Telia</td>\n",
       "    </tr>\n",
       "    <tr>\n",
       "      <th>4</th>\n",
       "      <td>2017-01-06 10:57:00</td>\n",
       "      <td>7.619</td>\n",
       "      <td>0.027</td>\n",
       "      <td>7.15483909123584</td>\n",
       "      <td>58.042191</td>\n",
       "      <td>4G</td>\n",
       "      <td>NO</td>\n",
       "      <td>Telia Norge AS</td>\n",
       "      <td>iOS</td>\n",
       "      <td>10.feb</td>\n",
       "      <td>...</td>\n",
       "      <td>242-05</td>\n",
       "      <td>OneCall</td>\n",
       "      <td>nat_local_to_public_ipv4</td>\n",
       "      <td>12929.0</td>\n",
       "      <td>NETCOM-AS Oslo, Norway, NO</td>\n",
       "      <td>3</td>\n",
       "      <td>3</td>\n",
       "      <td>47.940809</td>\n",
       "      <td>2017</td>\n",
       "      <td>Telia</td>\n",
       "    </tr>\n",
       "    <tr>\n",
       "      <th>...</th>\n",
       "      <td>...</td>\n",
       "      <td>...</td>\n",
       "      <td>...</td>\n",
       "      <td>...</td>\n",
       "      <td>...</td>\n",
       "      <td>...</td>\n",
       "      <td>...</td>\n",
       "      <td>...</td>\n",
       "      <td>...</td>\n",
       "      <td>...</td>\n",
       "      <td>...</td>\n",
       "      <td>...</td>\n",
       "      <td>...</td>\n",
       "      <td>...</td>\n",
       "      <td>...</td>\n",
       "      <td>...</td>\n",
       "      <td>...</td>\n",
       "      <td>...</td>\n",
       "      <td>...</td>\n",
       "      <td>...</td>\n",
       "      <td>...</td>\n",
       "    </tr>\n",
       "    <tr>\n",
       "      <th>700196</th>\n",
       "      <td>2022-12-01 22:24:00</td>\n",
       "      <td>54.626</td>\n",
       "      <td>19.413</td>\n",
       "      <td>6.189212856188619</td>\n",
       "      <td>60.368527</td>\n",
       "      <td>4G</td>\n",
       "      <td>NO</td>\n",
       "      <td>NaN</td>\n",
       "      <td>iOS</td>\n",
       "      <td>15.01.2001</td>\n",
       "      <td>...</td>\n",
       "      <td>242-01</td>\n",
       "      <td>Telenor</td>\n",
       "      <td>no_nat_ipv6</td>\n",
       "      <td>2119.0</td>\n",
       "      <td>TELENOR-NEXTEL Telenor Norge AS, NO</td>\n",
       "      <td>5</td>\n",
       "      <td>5</td>\n",
       "      <td>39.870808</td>\n",
       "      <td>2022</td>\n",
       "      <td>Telenor</td>\n",
       "    </tr>\n",
       "    <tr>\n",
       "      <th>700197</th>\n",
       "      <td>2022-12-01 22:24:00</td>\n",
       "      <td>45.810</td>\n",
       "      <td>0.907</td>\n",
       "      <td>10.0295651</td>\n",
       "      <td>62.719333</td>\n",
       "      <td>4G</td>\n",
       "      <td>NO</td>\n",
       "      <td>Telia Norge AS</td>\n",
       "      <td>Android</td>\n",
       "      <td>11(A202FXXU3CUJ2)</td>\n",
       "      <td>...</td>\n",
       "      <td>242-02</td>\n",
       "      <td>Telia N</td>\n",
       "      <td>nat_public_to_public_ipv4</td>\n",
       "      <td>12929.0</td>\n",
       "      <td>NETCOM-AS Oslo, Norway, NO</td>\n",
       "      <td>5</td>\n",
       "      <td>5</td>\n",
       "      <td>31.986259</td>\n",
       "      <td>2022</td>\n",
       "      <td>Telia</td>\n",
       "    </tr>\n",
       "    <tr>\n",
       "      <th>700221</th>\n",
       "      <td>2022-12-01 23:13:00</td>\n",
       "      <td>6.492</td>\n",
       "      <td>2.853</td>\n",
       "      <td>0.1284372</td>\n",
       "      <td>38.707681</td>\n",
       "      <td>4G</td>\n",
       "      <td>NO</td>\n",
       "      <td>Telenor Norge AS</td>\n",
       "      <td>Android</td>\n",
       "      <td>10(A105FNXXU6BUC3)</td>\n",
       "      <td>...</td>\n",
       "      <td>242-01</td>\n",
       "      <td>vodafone ES | Telenor</td>\n",
       "      <td>nat_local_to_public_ipv4</td>\n",
       "      <td>2119.0</td>\n",
       "      <td>TELENOR-NEXTEL Telenor Norge AS, NO</td>\n",
       "      <td>5</td>\n",
       "      <td>5</td>\n",
       "      <td>88.434749</td>\n",
       "      <td>2022</td>\n",
       "      <td>NaN</td>\n",
       "    </tr>\n",
       "    <tr>\n",
       "      <th>700230</th>\n",
       "      <td>2022-12-01 23:51:00</td>\n",
       "      <td>3.974</td>\n",
       "      <td>0.306</td>\n",
       "      <td>11.2662515</td>\n",
       "      <td>59.422983</td>\n",
       "      <td>4G</td>\n",
       "      <td>NO</td>\n",
       "      <td>NaN</td>\n",
       "      <td>Android</td>\n",
       "      <td>11(G780GXXU3AUJ2)</td>\n",
       "      <td>...</td>\n",
       "      <td>242-01</td>\n",
       "      <td>Telenor</td>\n",
       "      <td>no_nat_ipv6</td>\n",
       "      <td>2119.0</td>\n",
       "      <td>TELENOR-NEXTEL Telenor Norge AS, NO</td>\n",
       "      <td>5</td>\n",
       "      <td>5</td>\n",
       "      <td>60.087239</td>\n",
       "      <td>2022</td>\n",
       "      <td>Telenor</td>\n",
       "    </tr>\n",
       "    <tr>\n",
       "      <th>700231</th>\n",
       "      <td>2022-12-01 23:53:00</td>\n",
       "      <td>2.420</td>\n",
       "      <td>0.066</td>\n",
       "      <td>11.2662514</td>\n",
       "      <td>59.422983</td>\n",
       "      <td>4G</td>\n",
       "      <td>NO</td>\n",
       "      <td>NaN</td>\n",
       "      <td>Android</td>\n",
       "      <td>11(G780GXXU3AUJ2)</td>\n",
       "      <td>...</td>\n",
       "      <td>242-01</td>\n",
       "      <td>Telenor</td>\n",
       "      <td>no_nat_ipv6</td>\n",
       "      <td>2119.0</td>\n",
       "      <td>TELENOR-NEXTEL Telenor Norge AS, NO</td>\n",
       "      <td>5</td>\n",
       "      <td>5</td>\n",
       "      <td>61.825182</td>\n",
       "      <td>2022</td>\n",
       "      <td>Telenor</td>\n",
       "    </tr>\n",
       "  </tbody>\n",
       "</table>\n",
       "<p>92407 rows × 22 columns</p>\n",
       "</div>"
      ],
      "text/plain": [
       "                       tid  hastighet_ned  hastighet_opp         lengdegrad  \\\n",
       "0      2017-01-06 07:15:00         32.339         33.130  8.103848034523525   \n",
       "1      2017-01-06 07:33:00         35.984          9.993  7.159852640014172   \n",
       "2      2017-01-06 07:35:00         11.633          6.436  7.149743875495298   \n",
       "3      2017-01-06 07:35:00         14.367          6.846  7.149743875495298   \n",
       "4      2017-01-06 10:57:00          7.619          0.027   7.15483909123584   \n",
       "...                    ...            ...            ...                ...   \n",
       "700196 2022-12-01 22:24:00         54.626         19.413  6.189212856188619   \n",
       "700197 2022-12-01 22:24:00         45.810          0.907         10.0295651   \n",
       "700221 2022-12-01 23:13:00          6.492          2.853          0.1284372   \n",
       "700230 2022-12-01 23:51:00          3.974          0.306         11.2662515   \n",
       "700231 2022-12-01 23:53:00          2.420          0.066         11.2662514   \n",
       "\n",
       "        breddegrad teknologi landkode          tilbyder enhets_platform  \\\n",
       "0        58.180864        4G       NO               NaN             iOS   \n",
       "1        58.045217        4G       NO    Telia Norge AS             iOS   \n",
       "2        58.038875        4G       NO    Telia Norge AS             iOS   \n",
       "3        58.038875        4G       NO    Telia Norge AS             iOS   \n",
       "4        58.042191        4G       NO    Telia Norge AS             iOS   \n",
       "...            ...       ...      ...               ...             ...   \n",
       "700196   60.368527        4G       NO               NaN             iOS   \n",
       "700197   62.719333        4G       NO    Telia Norge AS         Android   \n",
       "700221   38.707681        4G       NO  Telenor Norge AS         Android   \n",
       "700230   59.422983        4G       NO               NaN         Android   \n",
       "700231   59.422983        4G       NO               NaN         Android   \n",
       "\n",
       "                 enhets_os  ... sim_operator      sim_operator_name  \\\n",
       "0               10.03.2003  ...       242-01                Telenor   \n",
       "1               10.02.2001  ...       242-02                Telia N   \n",
       "2               10.02.2001  ...       242-02                Telia N   \n",
       "3               10.02.2001  ...       242-02                Telia N   \n",
       "4                   10.feb  ...       242-05                OneCall   \n",
       "...                    ...  ...          ...                    ...   \n",
       "700196          15.01.2001  ...       242-01                Telenor   \n",
       "700197   11(A202FXXU3CUJ2)  ...       242-02                Telia N   \n",
       "700221  10(A105FNXXU6BUC3)  ...       242-01  vodafone ES | Telenor   \n",
       "700230   11(G780GXXU3AUJ2)  ...       242-01                Telenor   \n",
       "700231   11(G780GXXU3AUJ2)  ...       242-01                Telenor   \n",
       "\n",
       "                         nat_type public_ip_asn  \\\n",
       "0                     no_nat_ipv6        2119.0   \n",
       "1        nat_local_to_public_ipv4       12929.0   \n",
       "2        nat_local_to_public_ipv4       12929.0   \n",
       "3        nat_local_to_public_ipv4       12929.0   \n",
       "4        nat_local_to_public_ipv4       12929.0   \n",
       "...                           ...           ...   \n",
       "700196                no_nat_ipv6        2119.0   \n",
       "700197  nat_public_to_public_ipv4       12929.0   \n",
       "700221   nat_local_to_public_ipv4        2119.0   \n",
       "700230                no_nat_ipv6        2119.0   \n",
       "700231                no_nat_ipv6        2119.0   \n",
       "\n",
       "                          public_ip_as_name  num_threads_requested  \\\n",
       "0       TELENOR-NEXTEL Telenor Norge AS, NO                      3   \n",
       "1                NETCOM-AS Oslo, Norway, NO                      3   \n",
       "2                NETCOM-AS Oslo, Norway, NO                      3   \n",
       "3                NETCOM-AS Oslo, Norway, NO                      3   \n",
       "4                NETCOM-AS Oslo, Norway, NO                      3   \n",
       "...                                     ...                    ...   \n",
       "700196  TELENOR-NEXTEL Telenor Norge AS, NO                      5   \n",
       "700197           NETCOM-AS Oslo, Norway, NO                      5   \n",
       "700221  TELENOR-NEXTEL Telenor Norge AS, NO                      5   \n",
       "700230  TELENOR-NEXTEL Telenor Norge AS, NO                      5   \n",
       "700231  TELENOR-NEXTEL Telenor Norge AS, NO                      5   \n",
       "\n",
       "       num_threads  ping_median  year  network  \n",
       "0                3    30.464739  2017  Telenor  \n",
       "1                3    30.028120  2017    Telia  \n",
       "2                3    39.945953  2017    Telia  \n",
       "3                3    39.921458  2017    Telia  \n",
       "4                3    47.940809  2017    Telia  \n",
       "...            ...          ...   ...      ...  \n",
       "700196           5    39.870808  2022  Telenor  \n",
       "700197           5    31.986259  2022    Telia  \n",
       "700221           5    88.434749  2022      NaN  \n",
       "700230           5    60.087239  2022  Telenor  \n",
       "700231           5    61.825182  2022  Telenor  \n",
       "\n",
       "[92407 rows x 22 columns]"
      ]
     },
     "execution_count": 51,
     "metadata": {},
     "output_type": "execute_result"
    }
   ],
   "source": [
    "four_g"
   ]
  },
  {
   "cell_type": "code",
   "execution_count": null,
   "id": "8137edca-e4d4-40b1-bf45-76f875b9b4e1",
   "metadata": {},
   "outputs": [],
   "source": []
  }
 ],
 "metadata": {
  "kernelspec": {
   "display_name": "Python 3 (ipykernel)",
   "language": "python",
   "name": "python3"
  },
  "language_info": {
   "codemirror_mode": {
    "name": "ipython",
    "version": 3
   },
   "file_extension": ".py",
   "mimetype": "text/x-python",
   "name": "python",
   "nbconvert_exporter": "python",
   "pygments_lexer": "ipython3",
   "version": "3.7.4"
  }
 },
 "nbformat": 4,
 "nbformat_minor": 5
}
